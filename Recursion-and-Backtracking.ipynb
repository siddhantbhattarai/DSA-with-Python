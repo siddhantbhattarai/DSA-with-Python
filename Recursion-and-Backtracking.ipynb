{
 "cells": [
  {
   "cell_type": "markdown",
   "id": "a64fcac4-310f-4191-bd77-7fefd2758302",
   "metadata": {},
   "source": [
    "Recursion and backtracking are powerful techniques used in computer science and programming to solve problems that can be broken down into smaller subproblems.\n",
    "\n",
    "1. **Recursion:**\n",
    "   - Recursion is a programming technique where a function calls itself to solve smaller instances of the same problem.\n",
    "   - It involves breaking down a problem into smaller, similar subproblems until a base case is reached.\n",
    "   - Recursion consists of two parts: the base case(s), which provide a stopping condition for the recursion, and the recursive case(s), which call the function recursively to solve smaller instances of the problem.\n",
    "   - Recursion is often used to solve problems involving tree structures, such as tree traversal, as well as problems with repetitive substructures.\n",
    "\n",
    "2. **Backtracking:**\n",
    "   - Backtracking is a general algorithmic technique for finding solutions to combinatorial problems.\n",
    "   - It is based on systematic exploration of all possible candidate solutions by recursively trying different choices.\n",
    "   - Backtracking involves making a series of choices, and if a choice turns out to be incorrect, the algorithm backs up and tries a different choice.\n",
    "   - It is often used to solve problems such as generating all permutations or combinations of a set, solving puzzles like Sudoku or the Eight Queens Problem, and finding paths in graph traversal problems.\n",
    "   - Backtracking typically involves recursion to explore different paths or choices, and it often employs pruning techniques to eliminate unpromising choices early in the search.\n",
    "\n",
    "Both recursion and backtracking are powerful techniques that can be used to solve a wide range of problems efficiently. However, they require careful design to ensure correctness and efficiency, especially for problems with large search spaces or complex recursive structures."
   ]
  },
  {
   "cell_type": "markdown",
   "id": "f048e208-95ff-44c8-a7b7-2883ed04861f",
   "metadata": {},
   "source": [
    "31. Write a recursive function to calculate the factorial of a number."
   ]
  },
  {
   "cell_type": "markdown",
   "id": "c1a26e10-5bd1-4f09-9891-1e3c00979d41",
   "metadata": {},
   "source": [
    "In this recursive function:\n",
    "- The base case is when `n` is 0 or 1, where the factorial is defined as 1.\n",
    "- In the recursive case, the function multiplies `n` by the factorial of `(n-1)`.\n",
    "- The function calls itself with the argument `(n-1)` until the base case is reached. Then, it starts returning the results back up the call stack, multiplying each intermediate result with `n` until it reaches the original call.\n",
    "\n",
    "This recursive approach elegantly captures the definition of factorial and provides a concise solution to compute the factorial of a given number."
   ]
  },
  {
   "cell_type": "code",
   "execution_count": 2,
   "id": "4e85d63a-23bd-479e-a3b6-77d8d4fca596",
   "metadata": {},
   "outputs": [
    {
     "name": "stdout",
     "output_type": "stream",
     "text": [
      "Factorial of 5 is: 120\n"
     ]
    }
   ],
   "source": [
    "def factorial(n):\n",
    "    # Base case: factorial of 0 or 1 is 1\n",
    "    if n == 0 or n == 1:\n",
    "        return 1\n",
    "    # Recursive case: multiply n by factorial of (n-1)\n",
    "    else:\n",
    "        return n * factorial(n - 1)\n",
    "\n",
    "# Example usage:\n",
    "num = 5\n",
    "print(\"Factorial of\", num, \"is:\", factorial(num))  # Output: 120\n"
   ]
  },
  {
   "cell_type": "markdown",
   "id": "9ae7f98c-5d6f-4ba1-b05e-f7f4662964b2",
   "metadata": {},
   "source": [
    "32. Implement a recursive function to compute the nth Fibonacci number."
   ]
  },
  {
   "cell_type": "code",
   "execution_count": 3,
   "id": "242dd9b6-e1f6-45b0-935a-fa0de11965ab",
   "metadata": {},
   "outputs": [
    {
     "name": "stdout",
     "output_type": "stream",
     "text": [
      "Fibonacci number at index 6 is: 8\n"
     ]
    }
   ],
   "source": [
    "def fibonacci(n):\n",
    "    # Base case: Fibonacci of 0 is 0 and Fibonacci of 1 is 1\n",
    "    if n == 0:\n",
    "        return 0\n",
    "    elif n == 1:\n",
    "        return 1\n",
    "    # Recursive case: Fibonacci of n is the sum of Fibonacci of (n-1) and Fibonacci of (n-2)\n",
    "    else:\n",
    "        return fibonacci(n - 1) + fibonacci(n - 2)\n",
    "\n",
    "# Example usage:\n",
    "num = 6\n",
    "print(\"Fibonacci number at index\", num, \"is:\", fibonacci(num))  # Output: 8\n"
   ]
  },
  {
   "cell_type": "markdown",
   "id": "a9186ef6-b570-466f-9f1d-58584406add5",
   "metadata": {},
   "source": [
    "In this recursive function:\n",
    "- The base cases are when `n` is 0 or 1, where the Fibonacci numbers are defined as 0 and 1, respectively.\n",
    "- In the recursive case, the function computes the Fibonacci number at index `n` as the sum of the Fibonacci numbers at indices `(n-1)` and `(n-2)`.\n",
    "- The function calls itself recursively with the arguments `(n-1)` and `(n-2)` until it reaches one of the base cases.\n",
    "\n",
    "This recursive approach follows the definition of the Fibonacci sequence and provides a concise solution to compute the nth Fibonacci number. However, it may not be the most efficient approach for large values of `n` due to the repetitive computation of Fibonacci numbers."
   ]
  },
  {
   "cell_type": "markdown",
   "id": "27772f33-796b-46ba-936d-b07836c6dfc8",
   "metadata": {},
   "source": [
    "33. Write a Python program to generate all permutations of a given string."
   ]
  },
  {
   "cell_type": "code",
   "execution_count": 4,
   "id": "b029592e-6c85-46fd-b773-01dea2e4578b",
   "metadata": {},
   "outputs": [
    {
     "name": "stdout",
     "output_type": "stream",
     "text": [
      "Permutations of abc: ['abc', 'acb', 'bac', 'bca', 'cab', 'cba']\n"
     ]
    }
   ],
   "source": [
    "def generate_permutations(s):\n",
    "    # Base case: If the string has only one character, return it as a single-element list\n",
    "    if len(s) == 1:\n",
    "        return [s]\n",
    "\n",
    "    # List to store permutations\n",
    "    permutations = []\n",
    "\n",
    "    # Iterate through each character in the string\n",
    "    for i, char in enumerate(s):\n",
    "        # Generate permutations of the remaining characters after excluding the current character\n",
    "        remaining_chars = s[:i] + s[i+1:]\n",
    "        remaining_permutations = generate_permutations(remaining_chars)\n",
    "\n",
    "        # Append the current character to each permutation of the remaining characters\n",
    "        for permutation in remaining_permutations:\n",
    "            permutations.append(char + permutation)\n",
    "\n",
    "    return permutations\n",
    "\n",
    "# Example usage:\n",
    "input_string = \"abc\"\n",
    "print(\"Permutations of\", input_string + \":\", generate_permutations(input_string))\n"
   ]
  },
  {
   "cell_type": "markdown",
   "id": "76c4abaa-30ff-4cb5-96a8-0a5d7552a48f",
   "metadata": {},
   "source": [
    "This program generates all permutations of a given string `s` recursively. Here's how it works:\n",
    "\n",
    "- For each character in the string, it generates permutations of the remaining characters after excluding the current character.\n",
    "- It then appends the current character to each permutation of the remaining characters.\n",
    "- Finally, it returns the list of all permutations.\n",
    "\n",
    "For example, if the input string is \"abc\", the program will generate the permutations [\"abc\", \"acb\", \"bac\", \"bca\", \"cab\", \"cba\"]."
   ]
  },
  {
   "cell_type": "markdown",
   "id": "99bc78d9-da75-454d-85e1-00b7eb040034",
   "metadata": {},
   "source": [
    "34. Implement a function to solve the N-Queens problem using backtracking."
   ]
  },
  {
   "cell_type": "code",
   "execution_count": 5,
   "id": "a8f061ce-4de7-4810-a3b3-352e5d0777b4",
   "metadata": {},
   "outputs": [
    {
     "name": "stdout",
     "output_type": "stream",
     "text": [
      "Solutions for 4 queens:\n",
      ".Q..\n",
      "...Q\n",
      "Q...\n",
      "..Q.\n",
      "\n",
      "..Q.\n",
      "Q...\n",
      "...Q\n",
      ".Q..\n",
      "\n"
     ]
    }
   ],
   "source": [
    "def is_safe(board, row, col, N):\n",
    "    # Check if there is a queen in the same column\n",
    "    for i in range(row):\n",
    "        if board[i][col] == 1:\n",
    "            return False\n",
    "\n",
    "    # Check upper left diagonal\n",
    "    for i, j in zip(range(row, -1, -1), range(col, -1, -1)):\n",
    "        if board[i][j] == 1:\n",
    "            return False\n",
    "\n",
    "    # Check upper right diagonal\n",
    "    for i, j in zip(range(row, -1, -1), range(col, N)):\n",
    "        if board[i][j] == 1:\n",
    "            return False\n",
    "\n",
    "    return True\n",
    "\n",
    "def solve_n_queens_util(board, row, N, result):\n",
    "    # Base case: If all queens are placed, add the current configuration to the result\n",
    "    if row == N:\n",
    "        result.append([\"\".join([\"Q\" if cell == 1 else \".\" for cell in row]) for row in board])\n",
    "        return\n",
    "\n",
    "    for col in range(N):\n",
    "        if is_safe(board, row, col, N):\n",
    "            board[row][col] = 1\n",
    "            solve_n_queens_util(board, row + 1, N, result)\n",
    "            board[row][col] = 0\n",
    "\n",
    "def solve_n_queens(N):\n",
    "    board = [[0] * N for _ in range(N)]\n",
    "    result = []\n",
    "    solve_n_queens_util(board, 0, N, result)\n",
    "    return result\n",
    "\n",
    "# Example usage:\n",
    "N = 4\n",
    "solutions = solve_n_queens(N)\n",
    "print(\"Solutions for\", N, \"queens:\")\n",
    "for solution in solutions:\n",
    "    for row in solution:\n",
    "        print(row)\n",
    "    print()\n"
   ]
  },
  {
   "cell_type": "markdown",
   "id": "e0903e9f-6621-45be-ab5e-c3f6ad669455",
   "metadata": {},
   "source": [
    "The N-Queens problem is a classic problem in combinatorial optimization, where the goal is to place N queens on an N×N chessboard in such a way that no two queens threaten each other. That is, no two queens share the same row, column, or diagonal.\n",
    "\n",
    "In this implementation:\n",
    "- `is_safe` function checks whether it's safe to place a queen at the current position (row, col).\n",
    "- `solve_n_queens_util` function is a recursive helper function to place queens row by row using backtracking.\n",
    "- `solve_n_queens` function initializes the chessboard and calls the helper function to find all possible solutions.\n",
    "- The solutions are stored as a list of lists, where each list represents a valid configuration of the N-Queens problem.\n",
    "- Finally, it prints out all the solutions found.\n",
    "\n",
    "For example, for N = 4, the output will be all possible configurations of placing 4 queens on a 4x4 chessboard without threatening each other."
   ]
  },
  {
   "cell_type": "markdown",
   "id": "c7929f4a-b951-4160-bed5-6f24e89b65ee",
   "metadata": {},
   "source": [
    "35. Write a Python program to generate all subsets of a set."
   ]
  },
  {
   "cell_type": "code",
   "execution_count": 6,
   "id": "2cb7a381-ec6a-460e-9206-52a5890fe189",
   "metadata": {},
   "outputs": [
    {
     "name": "stdout",
     "output_type": "stream",
     "text": [
      "Subsets of [1, 2, 3] are:\n",
      "[[], [1], [1, 2], [1, 2, 3], [1, 3], [2], [2, 3], [3]]\n"
     ]
    }
   ],
   "source": [
    "def generate_subsets(nums):\n",
    "    subsets = []\n",
    "\n",
    "    def backtrack(start, subset):\n",
    "        subsets.append(subset[:])\n",
    "\n",
    "        for i in range(start, len(nums)):\n",
    "            subset.append(nums[i])\n",
    "            backtrack(i + 1, subset)\n",
    "            subset.pop()\n",
    "\n",
    "    backtrack(0, [])\n",
    "    return subsets\n",
    "\n",
    "# Example usage:\n",
    "nums = [1, 2, 3]\n",
    "print(\"Subsets of\", nums, \"are:\")\n",
    "print(generate_subsets(nums))\n"
   ]
  },
  {
   "cell_type": "markdown",
   "id": "49ed9ea5-391f-4f9a-93ce-6c832e9e1e3b",
   "metadata": {},
   "source": [
    "In this program:\n",
    "- The `generate_subsets` function initializes an empty list `subsets` to store all subsets.\n",
    "- It defines a nested function `backtrack` to generate subsets recursively.\n",
    "- The `backtrack` function takes two parameters: `start` (the index to start adding elements from) and `subset` (the current subset being generated).\n",
    "- In each recursive call, it appends the current subset to the list of subsets and explores all possible subsets by adding elements from the `start` index onwards.\n",
    "- After exploring all possibilities, it removes the last element added to backtrack and returns.\n",
    "\n",
    "For example, if the input set is `[1, 2, 3]`, the program will generate all possible subsets:\n",
    "\n",
    "```\n",
    "[[], [1], [1, 2], [1, 2, 3], [1, 3], [2], [2, 3], [3]]\n",
    "```\n",
    "\n",
    "These subsets include the empty set, single-element subsets, two-element subsets, and the full set itself."
   ]
  },
  {
   "cell_type": "markdown",
   "id": "bdc83c10-5264-4c44-804e-1b0cc312e526",
   "metadata": {},
   "source": [
    "36. Implement a recursive function to find the GCD of two numbers."
   ]
  },
  {
   "cell_type": "code",
   "execution_count": 7,
   "id": "311da719-d037-44aa-8cf0-74d1463d8ebd",
   "metadata": {},
   "outputs": [
    {
     "name": "stdout",
     "output_type": "stream",
     "text": [
      "GCD of 48 and 18 is: 6\n"
     ]
    }
   ],
   "source": [
    "def gcd(a, b):\n",
    "    # Base case: If b is 0, return a\n",
    "    if b == 0:\n",
    "        return a\n",
    "    # Recursive case: Call the function with b and the remainder of a divided by b\n",
    "    else:\n",
    "        return gcd(b, a % b)\n",
    "\n",
    "# Example usage:\n",
    "num1 = 48\n",
    "num2 = 18\n",
    "print(\"GCD of\", num1, \"and\", num2, \"is:\", gcd(num1, num2))  # Output: 6\n"
   ]
  },
  {
   "cell_type": "markdown",
   "id": "45377ed6-fdb8-47ce-83a4-6886c2b04eae",
   "metadata": {},
   "source": [
    "In this recursive function:\n",
    "- The base case is when the second number `b` becomes 0. In this case, the GCD is the first number `a`.\n",
    "- In the recursive case, the function calls itself with the second number `b` and the remainder of the first number `a` divided by `b`.\n",
    "- The function continues calling itself recursively until it reaches the base case, where it returns the GCD.\n",
    "\n",
    "This recursive approach elegantly computes the GCD of two numbers using the Euclidean algorithm. It's a straightforward and efficient way to find the GCD, especially for large numbers."
   ]
  },
  {
   "cell_type": "markdown",
   "id": "09a83426-2311-4ab8-9700-e071b27189fe",
   "metadata": {},
   "source": [
    "37. Write a Python program to generate all valid parentheses combinations."
   ]
  },
  {
   "cell_type": "code",
   "execution_count": 8,
   "id": "6b1cde97-cf70-479f-b678-6b0327e27dcc",
   "metadata": {},
   "outputs": [
    {
     "name": "stdout",
     "output_type": "stream",
     "text": [
      "Valid parentheses combinations for n = 3 :\n",
      "['((()))', '(()())', '(())()', '()(())', '()()()']\n"
     ]
    }
   ],
   "source": [
    "def generate_valid_parentheses(n):\n",
    "    def backtrack(curr_str, open_count, close_count):\n",
    "        # Base case: If the length of the current string is 2*n, it is a valid parentheses combination\n",
    "        if len(curr_str) == 2 * n:\n",
    "            result.append(curr_str)\n",
    "            return\n",
    "\n",
    "        # Recursive cases: Add either an open or close parenthesis if valid\n",
    "        if open_count < n:\n",
    "            backtrack(curr_str + '(', open_count + 1, close_count)\n",
    "        if close_count < open_count:\n",
    "            backtrack(curr_str + ')', open_count, close_count + 1)\n",
    "\n",
    "    result = []\n",
    "    backtrack('', 0, 0)\n",
    "    return result\n",
    "\n",
    "# Example usage:\n",
    "n = 3\n",
    "print(\"Valid parentheses combinations for n =\", n, \":\")\n",
    "print(generate_valid_parentheses(n))\n"
   ]
  },
  {
   "cell_type": "markdown",
   "id": "4fedd5f6-7cdf-4953-bdc7-bc5c077d38e8",
   "metadata": {},
   "source": [
    "In this program:\n",
    "- The `generate_valid_parentheses` function takes an integer `n` as input and returns a list of all valid parentheses combinations of length `2*n`.\n",
    "- The `backtrack` function generates valid combinations recursively. It takes three parameters: `curr_str` (the current combination being generated), `open_count` (the count of open parentheses), and `close_count` (the count of close parentheses).\n",
    "- The base case is when the length of the current string is `2*n`, indicating that a valid combination has been formed. In this case, the combination is added to the `result` list.\n",
    "- In the recursive cases, the function adds either an open or close parenthesis if it is valid to do so. An open parenthesis can be added if the count of open parentheses is less than `n`, and a close parenthesis can be added if the count of close parentheses is less than the count of open parentheses.\n",
    "- The function is called initially with an empty string and counts of open and close parentheses set to 0.\n",
    "\n",
    "For example, for `n = 3`, the output will be:\n",
    "```\n",
    "Valid parentheses combinations for n = 3 :\n",
    "['((()))', '(()())', '(())()', '()(())', '()()()']\n",
    "```"
   ]
  },
  {
   "cell_type": "markdown",
   "id": "88e222dc-d266-4754-b101-806aef5c8fea",
   "metadata": {},
   "source": [
    "38. Implement a recursive function to generate all combinations of a string."
   ]
  },
  {
   "cell_type": "code",
   "execution_count": 9,
   "id": "bb960c04-b3fd-422c-83b2-4776ac006348",
   "metadata": {},
   "outputs": [
    {
     "name": "stdout",
     "output_type": "stream",
     "text": [
      "Combinations of abc: ['', 'a', 'ab', 'abc', 'ac', 'b', 'bc', 'c']\n"
     ]
    }
   ],
   "source": [
    "def generate_combinations(s):\n",
    "    def backtrack(start, subset):\n",
    "        combinations.append(subset)\n",
    "\n",
    "        for i in range(start, len(s)):\n",
    "            backtrack(i + 1, subset + s[i])\n",
    "\n",
    "    combinations = []\n",
    "    backtrack(0, \"\")\n",
    "    return combinations\n",
    "\n",
    "# Example usage:\n",
    "input_string = \"abc\"\n",
    "print(\"Combinations of\", input_string + \":\", generate_combinations(input_string))\n"
   ]
  },
  {
   "cell_type": "markdown",
   "id": "f42ce4a1-08ba-458c-9c33-0d6924782c99",
   "metadata": {},
   "source": [
    "In this program:\n",
    "- The `generate_combinations` function initializes an empty list `combinations` to store all combinations.\n",
    "- It defines a nested function `backtrack` to generate combinations recursively.\n",
    "- The `backtrack` function takes two parameters: `start` (the index to start adding characters from) and `subset` (the current combination being generated).\n",
    "- In each recursive call, it appends the current combination to the list of combinations and explores all possible combinations by adding characters from the `start` index onwards.\n",
    "- After exploring all possibilities, it returns.\n",
    "\n",
    "For example, if the input string is `\"abc\"`, the program will generate all possible combinations:\n",
    "\n",
    "```\n",
    "['', 'a', 'ab', 'abc', 'ac', 'b', 'bc', 'c']\n",
    "```\n",
    "\n",
    "These combinations include the empty string, single-character subsets, two-character subsets, and the full string itself."
   ]
  },
  {
   "cell_type": "markdown",
   "id": "ca3dddb7-4b97-499f-8ced-4288fda7d675",
   "metadata": {},
   "source": [
    "39. Write a Python program to solve the Sudoku puzzle using backtracking."
   ]
  },
  {
   "cell_type": "code",
   "execution_count": 10,
   "id": "b1442e17-35e8-4675-a931-05e81cfa2eb7",
   "metadata": {},
   "outputs": [
    {
     "name": "stdout",
     "output_type": "stream",
     "text": [
      "Solved Sudoku:\n",
      "[5, 3, 4, 6, 7, 8, 9, 1, 2]\n",
      "[6, 7, 2, 1, 9, 5, 3, 4, 8]\n",
      "[1, 9, 8, 3, 4, 2, 5, 6, 7]\n",
      "[8, 5, 9, 7, 6, 1, 4, 2, 3]\n",
      "[4, 2, 6, 8, 5, 3, 7, 9, 1]\n",
      "[7, 1, 3, 9, 2, 4, 8, 5, 6]\n",
      "[9, 6, 1, 5, 3, 7, 2, 8, 4]\n",
      "[2, 8, 7, 4, 1, 9, 6, 3, 5]\n",
      "[3, 4, 5, 2, 8, 6, 1, 7, 9]\n"
     ]
    }
   ],
   "source": [
    "def is_valid(board, row, col, num):\n",
    "    # Check if the number is already present in the row\n",
    "    if num in board[row]:\n",
    "        return False\n",
    "\n",
    "    # Check if the number is already present in the column\n",
    "    if num in [board[i][col] for i in range(9)]:\n",
    "        return False\n",
    "\n",
    "    # Check if the number is already present in the 3x3 subgrid\n",
    "    start_row, start_col = 3 * (row // 3), 3 * (col // 3)\n",
    "    for i in range(start_row, start_row + 3):\n",
    "        for j in range(start_col, start_col + 3):\n",
    "            if board[i][j] == num:\n",
    "                return False\n",
    "\n",
    "    return True\n",
    "\n",
    "def solve_sudoku(board):\n",
    "    # Find an empty cell (marked with 0) to fill\n",
    "    for i in range(9):\n",
    "        for j in range(9):\n",
    "            if board[i][j] == 0:\n",
    "                # Try placing numbers 1 to 9\n",
    "                for num in range(1, 10):\n",
    "                    if is_valid(board, i, j, num):\n",
    "                        board[i][j] = num\n",
    "                        # Recursively try to solve the rest of the puzzle\n",
    "                        if solve_sudoku(board):\n",
    "                            return True\n",
    "                        # If current placement doesn't lead to a solution, backtrack\n",
    "                        board[i][j] = 0\n",
    "                return False\n",
    "    # If no empty cell is found, the puzzle is solved\n",
    "    return True\n",
    "\n",
    "# Example usage:\n",
    "# Empty Sudoku board (0 represents empty cells)\n",
    "board = [\n",
    "    [5, 3, 0, 0, 7, 0, 0, 0, 0],\n",
    "    [6, 0, 0, 1, 9, 5, 0, 0, 0],\n",
    "    [0, 9, 8, 0, 0, 0, 0, 6, 0],\n",
    "    [8, 0, 0, 0, 6, 0, 0, 0, 3],\n",
    "    [4, 0, 0, 8, 0, 3, 0, 0, 1],\n",
    "    [7, 0, 0, 0, 2, 0, 0, 0, 6],\n",
    "    [0, 6, 0, 0, 0, 0, 2, 8, 0],\n",
    "    [0, 0, 0, 4, 1, 9, 0, 0, 5],\n",
    "    [0, 0, 0, 0, 8, 0, 0, 7, 9]\n",
    "]\n",
    "\n",
    "if solve_sudoku(board):\n",
    "    print(\"Solved Sudoku:\")\n",
    "    for row in board:\n",
    "        print(row)\n",
    "else:\n",
    "    print(\"No solution exists for the given Sudoku puzzle.\")\n"
   ]
  },
  {
   "cell_type": "markdown",
   "id": "e8968cfd-f283-4dfa-9123-8c4fc18b2665",
   "metadata": {},
   "source": [
    "In this program:\n",
    "- The `is_valid` function checks if a number can be placed at a given position on the Sudoku board without violating the Sudoku rules.\n",
    "- The `solve_sudoku` function uses backtracking to solve the Sudoku puzzle recursively. It finds an empty cell, tries placing numbers 1 to 9, and recursively solves the rest of the puzzle. If a solution is found, it returns `True`. If no solution is found, it backtracks and tries a different number.\n",
    "- Example usage demonstrates how to solve a Sudoku puzzle using the `solve_sudoku` function.\n",
    "\n",
    "This program can solve most standard 9x9 Sudoku puzzles efficiently using backtracking."
   ]
  },
  {
   "cell_type": "markdown",
   "id": "16e09b66-c60e-45cb-a21c-612cbcc83c63",
   "metadata": {},
   "source": [
    "40. Implement a recursive function to generate all possible valid IP addresses from given string."
   ]
  },
  {
   "cell_type": "code",
   "execution_count": 11,
   "id": "1f0dad14-4665-4883-9940-35535604be16",
   "metadata": {},
   "outputs": [
    {
     "name": "stdout",
     "output_type": "stream",
     "text": [
      "Valid IP addresses for 25525511135:\n",
      "['255.255.11.135', '255.255.111.35']\n"
     ]
    }
   ],
   "source": [
    "def restore_ip_addresses(s):\n",
    "    def backtrack(start, parts):\n",
    "        # Base case: if we have found 4 parts and used all characters in the string, add the IP address to the result\n",
    "        if len(parts) == 4 and start == len(s):\n",
    "            result.append(\".\".join(parts))\n",
    "            return\n",
    "\n",
    "        # Recursive case: try all possible combinations of parts\n",
    "        for i in range(1, 4):\n",
    "            # Ensure the substring is within the bounds of the string\n",
    "            if start + i <= len(s):\n",
    "                part = s[start:start + i]\n",
    "                # Ensure the part is a valid IP address part\n",
    "                if 0 <= int(part) <= 255 and (len(part) == 1 or part[0] != '0'):\n",
    "                    backtrack(start + i, parts + [part])\n",
    "\n",
    "    result = []\n",
    "    backtrack(0, [])\n",
    "    return result\n",
    "\n",
    "# Example usage:\n",
    "input_string = \"25525511135\"\n",
    "print(\"Valid IP addresses for\", input_string + \":\")\n",
    "print(restore_ip_addresses(input_string))\n"
   ]
  },
  {
   "cell_type": "markdown",
   "id": "7c7953d6-4dc6-422c-b366-389e557ad238",
   "metadata": {},
   "source": [
    "In this program:\n",
    "- The `restore_ip_addresses` function takes a string `s` as input and returns a list of all possible valid IP addresses that can be formed from the string.\n",
    "- The `backtrack` function is a helper function that generates valid IP addresses recursively. It takes two parameters: `start` (the starting index in the string) and `parts` (the list of parts forming the IP address).\n",
    "- In each recursive call, it tries all possible combinations of parts by iterating over substrings of lengths 1, 2, and 3. It adds a part to the `parts` list if it is a valid IP address part.\n",
    "- When four valid parts are found and all characters in the string are used, the IP address is added to the result list.\n",
    "- The `restore_ip_addresses` function is called initially with `start=0` and an empty list of parts.\n",
    "\n",
    "For example, if the input string is `\"25525511135\"`, the program will generate all possible valid IP addresses:\n",
    "\n",
    "```\n",
    "['255.255.11.135', '255.255.111.35']\n",
    "```\n",
    "\n",
    "These are the two valid IP addresses that can be formed from the given string."
   ]
  },
  {
   "cell_type": "code",
   "execution_count": null,
   "id": "8773b57b-6671-44e5-b772-5d0c3333909b",
   "metadata": {},
   "outputs": [],
   "source": []
  }
 ],
 "metadata": {
  "kernelspec": {
   "display_name": "Python 3 (ipykernel)",
   "language": "python",
   "name": "python3"
  },
  "language_info": {
   "codemirror_mode": {
    "name": "ipython",
    "version": 3
   },
   "file_extension": ".py",
   "mimetype": "text/x-python",
   "name": "python",
   "nbconvert_exporter": "python",
   "pygments_lexer": "ipython3",
   "version": "3.11.5"
  }
 },
 "nbformat": 4,
 "nbformat_minor": 5
}
