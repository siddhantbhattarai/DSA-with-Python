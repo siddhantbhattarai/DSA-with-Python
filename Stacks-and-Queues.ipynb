{
 "cells": [
  {
   "cell_type": "markdown",
   "id": "523137d9-5ba4-4be6-987d-98a8dccdca8e",
   "metadata": {},
   "source": [
    "Stacks and queues are fundamental data structures used in computer science and programming. They both represent collections of elements with specific access and retrieval rules.\n",
    "\n",
    "1. **Stacks:**\n",
    "   - A stack is a linear data structure that follows the Last-In-First-Out (LIFO) principle.\n",
    "   - Elements are added and removed from the same end, known as the top.\n",
    "   - Operations on a stack:\n",
    "     - **Push:** Adds an element to the top of the stack.\n",
    "     - **Pop:** Removes the top element from the stack.\n",
    "     - **Peek (or Top):** Returns the top element without removing it.\n",
    "     - **isEmpty:** Checks if the stack is empty.\n",
    "   - Stacks are used in:\n",
    "     - Function call stack (used for function invocation and recursion).\n",
    "     - Undo mechanisms in text editors.\n",
    "     - Expression evaluation (e.g., infix to postfix conversion).\n",
    "     - Backtracking algorithms.\n",
    "\n",
    "2. **Queues:**\n",
    "   - A queue is a linear data structure that follows the First-In-First-Out (FIFO) principle.\n",
    "   - Elements are added at the rear (enqueue) and removed from the front (dequeue).\n",
    "   - Operations on a queue:\n",
    "     - **Enqueue:** Adds an element to the rear of the queue.\n",
    "     - **Dequeue:** Removes the front element from the queue.\n",
    "     - **Front (or Peek):** Returns the front element without removing it.\n",
    "     - **isEmpty:** Checks if the queue is empty.\n",
    "   - Queues are used in:\n",
    "     - Process scheduling in operating systems.\n",
    "     - Print job scheduling in printers.\n",
    "     - Breadth-First Search (BFS) algorithm in graphs.\n",
    "     - Asynchronous data transfer (message queues).\n",
    "\n",
    "Both stacks and queues can be implemented using arrays or linked lists. They provide efficient insertion and removal of elements from their respective ends, making them suitable for various applications in programming and algorithm design. Understanding these data structures is essential for writing efficient and organized code."
   ]
  },
  {
   "cell_type": "markdown",
   "id": "9612578a-b181-4a4f-bd78-1502628757b6",
   "metadata": {},
   "source": [
    "21. Implement a stack using an array and write methods to push, pop, and peek."
   ]
  },
  {
   "cell_type": "code",
   "execution_count": 1,
   "id": "b154cea4-3801-4161-bd4c-5d3351164ccb",
   "metadata": {},
   "outputs": [
    {
     "name": "stdout",
     "output_type": "stream",
     "text": [
      "Top element of the stack: 3\n",
      "Popped element: 3\n",
      "Popped element: 2\n",
      "Is the stack empty? False\n",
      "Popped element: 1\n",
      "Is the stack empty? True\n",
      "Stack is empty.\n",
      "Popped element: None\n"
     ]
    }
   ],
   "source": [
    "class Stack:\n",
    "    def __init__(self):\n",
    "        self.stack = []\n",
    "\n",
    "    def push(self, data):\n",
    "        \"\"\"\n",
    "        Pushes an element onto the top of the stack.\n",
    "\n",
    "        Parameters:\n",
    "        data: The element to be pushed onto the stack.\n",
    "        \"\"\"\n",
    "        self.stack.append(data)\n",
    "\n",
    "    def pop(self):\n",
    "        \"\"\"\n",
    "        Removes and returns the element at the top of the stack.\n",
    "\n",
    "        Returns:\n",
    "        The element at the top of the stack.\n",
    "        \"\"\"\n",
    "        if not self.is_empty():\n",
    "            return self.stack.pop()\n",
    "        else:\n",
    "            print(\"Stack is empty.\")\n",
    "            return None\n",
    "\n",
    "    def peek(self):\n",
    "        \"\"\"\n",
    "        Returns the element at the top of the stack without removing it.\n",
    "\n",
    "        Returns:\n",
    "        The element at the top of the stack.\n",
    "        \"\"\"\n",
    "        if not self.is_empty():\n",
    "            return self.stack[-1]\n",
    "        else:\n",
    "            print(\"Stack is empty.\")\n",
    "            return None\n",
    "\n",
    "    def is_empty(self):\n",
    "        \"\"\"\n",
    "        Checks if the stack is empty.\n",
    "\n",
    "        Returns:\n",
    "        True if the stack is empty, False otherwise.\n",
    "        \"\"\"\n",
    "        return len(self.stack) == 0\n",
    "\n",
    "# Example usage:\n",
    "stack = Stack()\n",
    "\n",
    "stack.push(1)\n",
    "stack.push(2)\n",
    "stack.push(3)\n",
    "\n",
    "print(\"Top element of the stack:\", stack.peek())  # Output: 3\n",
    "\n",
    "print(\"Popped element:\", stack.pop())  # Output: 3\n",
    "print(\"Popped element:\", stack.pop())  # Output: 2\n",
    "\n",
    "print(\"Is the stack empty?\", stack.is_empty())  # Output: False\n",
    "\n",
    "print(\"Popped element:\", stack.pop())  # Output: 1\n",
    "\n",
    "print(\"Is the stack empty?\", stack.is_empty())  # Output: True\n",
    "\n",
    "print(\"Popped element:\", stack.pop())  # Output: Stack is empty.\n"
   ]
  },
  {
   "cell_type": "markdown",
   "id": "6b7117a7-c646-47f7-b91a-c193790f1fbc",
   "metadata": {},
   "source": [
    "In this implementation, the Stack class represents a stack using a Python list (self.stack). The push method adds an element to the top of the stack, the pop method removes and returns the element at the top of the stack, the peek method returns the top element without removing it, and the is_empty method checks if the stack is empty."
   ]
  },
  {
   "cell_type": "markdown",
   "id": "8665c6ae-072e-404c-8574-a4ccbda4cc71",
   "metadata": {},
   "source": [
    "22. Write a Python program to implement a stack using linked list."
   ]
  },
  {
   "cell_type": "code",
   "execution_count": 2,
   "id": "9f36d5b1-da89-4536-b8aa-75739a97b978",
   "metadata": {},
   "outputs": [
    {
     "name": "stdout",
     "output_type": "stream",
     "text": [
      "Top element of the stack: 3\n",
      "Popped element: 3\n",
      "Popped element: 2\n",
      "Is the stack empty? False\n",
      "Popped element: 1\n",
      "Is the stack empty? True\n",
      "Stack is empty.\n",
      "Popped element: None\n"
     ]
    }
   ],
   "source": [
    "class Node:\n",
    "    def __init__(self, data):\n",
    "        self.data = data\n",
    "        self.next = None\n",
    "\n",
    "class Stack:\n",
    "    def __init__(self):\n",
    "        self.top = None\n",
    "\n",
    "    def push(self, data):\n",
    "        \"\"\"\n",
    "        Pushes an element onto the top of the stack.\n",
    "\n",
    "        Parameters:\n",
    "        data: The element to be pushed onto the stack.\n",
    "        \"\"\"\n",
    "        new_node = Node(data)\n",
    "        new_node.next = self.top\n",
    "        self.top = new_node\n",
    "\n",
    "    def pop(self):\n",
    "        \"\"\"\n",
    "        Removes and returns the element at the top of the stack.\n",
    "\n",
    "        Returns:\n",
    "        The element at the top of the stack.\n",
    "        \"\"\"\n",
    "        if not self.is_empty():\n",
    "            popped_data = self.top.data\n",
    "            self.top = self.top.next\n",
    "            return popped_data\n",
    "        else:\n",
    "            print(\"Stack is empty.\")\n",
    "            return None\n",
    "\n",
    "    def peek(self):\n",
    "        \"\"\"\n",
    "        Returns the element at the top of the stack without removing it.\n",
    "\n",
    "        Returns:\n",
    "        The element at the top of the stack.\n",
    "        \"\"\"\n",
    "        if not self.is_empty():\n",
    "            return self.top.data\n",
    "        else:\n",
    "            print(\"Stack is empty.\")\n",
    "            return None\n",
    "\n",
    "    def is_empty(self):\n",
    "        \"\"\"\n",
    "        Checks if the stack is empty.\n",
    "\n",
    "        Returns:\n",
    "        True if the stack is empty, False otherwise.\n",
    "        \"\"\"\n",
    "        return self.top is None\n",
    "\n",
    "# Example usage:\n",
    "stack = Stack()\n",
    "\n",
    "stack.push(1)\n",
    "stack.push(2)\n",
    "stack.push(3)\n",
    "\n",
    "print(\"Top element of the stack:\", stack.peek())  # Output: 3\n",
    "\n",
    "print(\"Popped element:\", stack.pop())  # Output: 3\n",
    "print(\"Popped element:\", stack.pop())  # Output: 2\n",
    "\n",
    "print(\"Is the stack empty?\", stack.is_empty())  # Output: False\n",
    "\n",
    "print(\"Popped element:\", stack.pop())  # Output: 1\n",
    "\n",
    "print(\"Is the stack empty?\", stack.is_empty())  # Output: True\n",
    "\n",
    "print(\"Popped element:\", stack.pop())  # Output: Stack is empty.\n"
   ]
  },
  {
   "cell_type": "markdown",
   "id": "81a0137d-9f18-40f9-a057-df0673bf411e",
   "metadata": {},
   "source": [
    "In this implementation, the Node class represents a single node in the linked list, and the Stack class represents a stack using a linked list. The push, pop, peek, and is_empty methods perform the respective operations on the stack."
   ]
  },
  {
   "cell_type": "markdown",
   "id": "0261f774-a2cb-494d-90d7-71235d703754",
   "metadata": {},
   "source": [
    "23. Implement a queue using an array and write methods to enqueue and dequeue."
   ]
  },
  {
   "cell_type": "code",
   "execution_count": 4,
   "id": "cc772608-0c4a-4c17-9044-9e3f2a7af075",
   "metadata": {},
   "outputs": [
    {
     "name": "stdout",
     "output_type": "stream",
     "text": [
      "Front element of the queue: 1\n",
      "Dequeued element: 1\n",
      "Dequeued element: 2\n",
      "Is the queue empty? False\n",
      "Dequeued element: 3\n",
      "Is the queue empty? True\n",
      "Queue is empty.\n",
      "Dequeued element: None\n"
     ]
    }
   ],
   "source": [
    "class Queue:\n",
    "    def __init__(self):\n",
    "        self.queue = []\n",
    "\n",
    "    def enqueue(self, data):\n",
    "        \"\"\"\n",
    "        Enqueues an element into the rear of the queue.\n",
    "\n",
    "        Parameters:\n",
    "        data: The element to be enqueued.\n",
    "        \"\"\"\n",
    "        self.queue.append(data)\n",
    "\n",
    "    def dequeue(self):\n",
    "        \"\"\"\n",
    "        Dequeues and returns the element from the front of the queue.\n",
    "\n",
    "        Returns:\n",
    "        The element dequeued from the front of the queue.\n",
    "        \"\"\"\n",
    "        if not self.is_empty():\n",
    "            return self.queue.pop(0)\n",
    "        else:\n",
    "            print(\"Queue is empty.\")\n",
    "            return None\n",
    "\n",
    "    def is_empty(self):\n",
    "        \"\"\"\n",
    "        Checks if the queue is empty.\n",
    "\n",
    "        Returns:\n",
    "        True if the queue is empty, False otherwise.\n",
    "        \"\"\"\n",
    "        return len(self.queue) == 0\n",
    "\n",
    "# Example usage:\n",
    "queue = Queue()\n",
    "\n",
    "queue.enqueue(1)\n",
    "queue.enqueue(2)\n",
    "queue.enqueue(3)\n",
    "\n",
    "print(\"Front element of the queue:\", queue.queue[0])  # Output: 1\n",
    "\n",
    "print(\"Dequeued element:\", queue.dequeue())  # Output: 1\n",
    "print(\"Dequeued element:\", queue.dequeue())  # Output: 2\n",
    "\n",
    "print(\"Is the queue empty?\", queue.is_empty())  # Output: False\n",
    "\n",
    "print(\"Dequeued element:\", queue.dequeue())  # Output: 3\n",
    "\n",
    "print(\"Is the queue empty?\", queue.is_empty())  # Output: True\n",
    "\n",
    "print(\"Dequeued element:\", queue.dequeue())  # Output: Queue is empty.\n"
   ]
  },
  {
   "cell_type": "markdown",
   "id": "cb9b905a-2de7-46ff-a5de-45916af93155",
   "metadata": {},
   "source": [
    "In this implementation, the Queue class represents a queue using a Python list (self.queue). The enqueue method adds an element to the rear of the queue, the dequeue method removes and returns the element at the front of the queue, and the is_empty method checks if the queue is empty."
   ]
  },
  {
   "cell_type": "markdown",
   "id": "d939a446-c26c-412c-a81d-72c472cb50c9",
   "metadata": {},
   "source": [
    "24. Write a Python program to implement a queue using linked list."
   ]
  },
  {
   "cell_type": "code",
   "execution_count": 6,
   "id": "c8ebbcbe-e13c-46ed-9e64-b75f67d5111d",
   "metadata": {},
   "outputs": [
    {
     "name": "stdout",
     "output_type": "stream",
     "text": [
      "Front element of the queue: 1\n",
      "Dequeued element: 1\n",
      "Dequeued element: 2\n",
      "Is the queue empty? False\n",
      "Dequeued element: 3\n",
      "Is the queue empty? True\n",
      "Queue is empty.\n",
      "Dequeued element: None\n"
     ]
    }
   ],
   "source": [
    "class Node:\n",
    "    def __init__(self, data):\n",
    "        self.data = data\n",
    "        self.next = None\n",
    "\n",
    "class Queue:\n",
    "    def __init__(self):\n",
    "        self.front = None\n",
    "        self.rear = None\n",
    "\n",
    "    def enqueue(self, data):\n",
    "        \"\"\"\n",
    "        Enqueues an element into the rear of the queue.\n",
    "\n",
    "        Parameters:\n",
    "        data: The element to be enqueued.\n",
    "        \"\"\"\n",
    "        new_node = Node(data)\n",
    "        if self.rear is None:\n",
    "            self.front = new_node\n",
    "            self.rear = new_node\n",
    "        else:\n",
    "            self.rear.next = new_node\n",
    "            self.rear = new_node\n",
    "\n",
    "    def dequeue(self):\n",
    "        \"\"\"\n",
    "        Dequeues and returns the element from the front of the queue.\n",
    "\n",
    "        Returns:\n",
    "        The element dequeued from the front of the queue.\n",
    "        \"\"\"\n",
    "        if not self.is_empty():\n",
    "            dequeued_data = self.front.data\n",
    "            if self.front == self.rear:\n",
    "                self.front = None\n",
    "                self.rear = None\n",
    "            else:\n",
    "                self.front = self.front.next\n",
    "            return dequeued_data\n",
    "        else:\n",
    "            print(\"Queue is empty.\")\n",
    "            return None\n",
    "\n",
    "    def is_empty(self):\n",
    "        \"\"\"\n",
    "        Checks if the queue is empty.\n",
    "\n",
    "        Returns:\n",
    "        True if the queue is empty, False otherwise.\n",
    "        \"\"\"\n",
    "        return self.front is None\n",
    "\n",
    "# Example usage:\n",
    "queue = Queue()\n",
    "\n",
    "queue.enqueue(1)\n",
    "queue.enqueue(2)\n",
    "queue.enqueue(3)\n",
    "\n",
    "print(\"Front element of the queue:\", queue.front.data)  # Output: 1\n",
    "\n",
    "print(\"Dequeued element:\", queue.dequeue())  # Output: 1\n",
    "print(\"Dequeued element:\", queue.dequeue())  # Output: 2\n",
    "\n",
    "print(\"Is the queue empty?\", queue.is_empty())  # Output: False\n",
    "\n",
    "print(\"Dequeued element:\", queue.dequeue())  # Output: 3\n",
    "\n",
    "print(\"Is the queue empty?\", queue.is_empty())  # Output: True\n",
    "\n",
    "print(\"Dequeued element:\", queue.dequeue())  # Output: Queue is empty.\n"
   ]
  },
  {
   "cell_type": "markdown",
   "id": "68088888-f5e2-413a-b0df-201be6f5bd01",
   "metadata": {},
   "source": [
    "In this implementation, the Node class represents a single node in the linked list, and the Queue class represents a queue using a linked list. The enqueue, dequeue, and is_empty methods perform the respective operations on the queue."
   ]
  },
  {
   "cell_type": "markdown",
   "id": "466f4a72-ad82-44e3-a43e-9af715e3fcff",
   "metadata": {},
   "source": [
    "25. Implement a function to evaluate a postfix expression using a stack."
   ]
  },
  {
   "cell_type": "code",
   "execution_count": 7,
   "id": "0d555558-05db-4643-8714-cebc97d1aa55",
   "metadata": {},
   "outputs": [
    {
     "name": "stdout",
     "output_type": "stream",
     "text": [
      "Result of postfix expression evaluation: 48\n"
     ]
    }
   ],
   "source": [
    "class Stack:\n",
    "    def __init__(self):\n",
    "        self.stack = []\n",
    "\n",
    "    def push(self, data):\n",
    "        self.stack.append(data)\n",
    "\n",
    "    def pop(self):\n",
    "        if not self.is_empty():\n",
    "            return self.stack.pop()\n",
    "        else:\n",
    "            print(\"Stack is empty.\")\n",
    "            return None\n",
    "\n",
    "    def is_empty(self):\n",
    "        return len(self.stack) == 0\n",
    "\n",
    "def evaluate_postfix(expression):\n",
    "    stack = Stack()\n",
    "\n",
    "    for token in expression.split():\n",
    "        if token.isdigit():\n",
    "            stack.push(int(token))\n",
    "        else:\n",
    "            if stack.is_empty():\n",
    "                print(\"Invalid expression.\")\n",
    "                return None\n",
    "\n",
    "            operand2 = stack.pop()\n",
    "            operand1 = stack.pop()\n",
    "\n",
    "            if token == '+':\n",
    "                stack.push(operand1 + operand2)\n",
    "            elif token == '-':\n",
    "                stack.push(operand1 - operand2)\n",
    "            elif token == '*':\n",
    "                stack.push(operand1 * operand2)\n",
    "            elif token == '/':\n",
    "                stack.push(operand1 // operand2)  # Integer division\n",
    "\n",
    "    if stack.is_empty():\n",
    "        print(\"Invalid expression.\")\n",
    "        return None\n",
    "\n",
    "    result = stack.pop()\n",
    "\n",
    "    if not stack.is_empty():\n",
    "        print(\"Invalid expression.\")\n",
    "        return None\n",
    "\n",
    "    return result\n",
    "\n",
    "# Example usage:\n",
    "postfix_expression = \"5 3 + 8 2 - *\"\n",
    "print(\"Result of postfix expression evaluation:\", evaluate_postfix(postfix_expression))  # Output: 40\n"
   ]
  },
  {
   "cell_type": "markdown",
   "id": "3ee3b719-a41e-4d58-a922-5085eb7da33e",
   "metadata": {},
   "source": [
    "\n",
    "To evaluate a postfix expression using a stack, we iterate through the expression from left to right. When encountering an operand, we push it onto the stack. When encountering an operator, we pop the required number of operands from the stack, apply the operator, and push the result back onto the stack."
   ]
  },
  {
   "cell_type": "markdown",
   "id": "be84c158-a664-4f34-9b81-cc4c4a499a57",
   "metadata": {},
   "source": [
    "In this implementation, the Stack class represents a stack using a Python list, and the evaluate_postfix function takes a postfix expression as input and returns the result of its evaluation. It iterates through the expression, pushing operands onto the stack and performing operations on operands when encountering operators. Finally, it returns the result of the evaluation."
   ]
  },
  {
   "cell_type": "markdown",
   "id": "9cf3c383-5974-41ab-9a19-815fe3c8c8de",
   "metadata": {},
   "source": [
    "26. Write a Python program to reverse the elements of a queue."
   ]
  },
  {
   "cell_type": "code",
   "execution_count": 8,
   "id": "fe42ff57-f95f-4361-bc20-b84c023e91d4",
   "metadata": {},
   "outputs": [
    {
     "name": "stdout",
     "output_type": "stream",
     "text": [
      "Original queue:\n",
      "Queue: [1, 2, 3, 4, 5]\n",
      "Reversed queue:\n",
      "Queue: [5, 4, 3, 2, 1]\n"
     ]
    }
   ],
   "source": [
    "class Queue:\n",
    "    def __init__(self):\n",
    "        self.queue = []\n",
    "\n",
    "    def enqueue(self, data):\n",
    "        self.queue.append(data)\n",
    "\n",
    "    def dequeue(self):\n",
    "        if not self.is_empty():\n",
    "            return self.queue.pop(0)\n",
    "        else:\n",
    "            print(\"Queue is empty.\")\n",
    "            return None\n",
    "\n",
    "    def is_empty(self):\n",
    "        return len(self.queue) == 0\n",
    "\n",
    "    def reverse(self):\n",
    "        stack = []\n",
    "\n",
    "        # Dequeue elements from the queue and push them onto the stack\n",
    "        while not self.is_empty():\n",
    "            stack.append(self.dequeue())\n",
    "\n",
    "        # Enqueue elements from the stack back into the queue\n",
    "        while stack:\n",
    "            self.enqueue(stack.pop())\n",
    "\n",
    "    def display(self):\n",
    "        print(\"Queue:\", self.queue)\n",
    "\n",
    "# Example usage:\n",
    "queue = Queue()\n",
    "\n",
    "queue.enqueue(1)\n",
    "queue.enqueue(2)\n",
    "queue.enqueue(3)\n",
    "queue.enqueue(4)\n",
    "queue.enqueue(5)\n",
    "\n",
    "print(\"Original queue:\")\n",
    "queue.display()  # Output: Queue: [1, 2, 3, 4, 5]\n",
    "\n",
    "queue.reverse()\n",
    "\n",
    "print(\"Reversed queue:\")\n",
    "queue.display()  # Output: Queue: [5, 4, 3, 2, 1]\n"
   ]
  },
  {
   "cell_type": "markdown",
   "id": "df00ec06-0179-4b5b-b073-d12356021046",
   "metadata": {},
   "source": [
    "\n",
    "To reverse the elements of a queue, we can use a stack to temporarily store the elements of the queue while dequeuing them, and then enqueue them back into the queue in reverse order."
   ]
  },
  {
   "cell_type": "markdown",
   "id": "2a522217-4f8d-4c8b-b362-17fe939a38e0",
   "metadata": {},
   "source": [
    "In this implementation, the Queue class represents a queue using a Python list (self.queue). The reverse method reverses the elements of the queue by using a stack. It dequeues elements from the queue and pushes them onto the stack. Then, it dequeues elements from the stack and enqueues them back into the queue, effectively reversing the order of elements in the queue."
   ]
  },
  {
   "cell_type": "markdown",
   "id": "cfce1ea7-efe3-4860-884e-117f0631e4d4",
   "metadata": {},
   "source": [
    "27. Implement a function to check if parentheses are balanced using a stack."
   ]
  },
  {
   "cell_type": "code",
   "execution_count": 9,
   "id": "eacd5c00-5895-4b6f-bbcb-2155ccf2871e",
   "metadata": {},
   "outputs": [
    {
     "name": "stdout",
     "output_type": "stream",
     "text": [
      "Are parentheses balanced in {[()()]}? True\n",
      "Are parentheses balanced in ([)]? False\n",
      "Are parentheses balanced in ()[]{}? True\n"
     ]
    }
   ],
   "source": [
    "def are_parentheses_balanced(expression):\n",
    "    stack = []\n",
    "    opening_parentheses = \"([{\"\n",
    "    closing_parentheses = \")]}\"\n",
    "\n",
    "    for char in expression:\n",
    "        if char in opening_parentheses:\n",
    "            stack.append(char)\n",
    "        elif char in closing_parentheses:\n",
    "            if not stack:\n",
    "                return False\n",
    "            top = stack.pop()\n",
    "            if (char == ')' and top != '(') or (char == ']' and top != '[') or (char == '}' and top != '{'):\n",
    "                return False\n",
    "\n",
    "    return len(stack) == 0\n",
    "\n",
    "# Example usage:\n",
    "expression1 = \"{[()()]}\"\n",
    "expression2 = \"([)]\"\n",
    "expression3 = \"()[]{}\"\n",
    "print(\"Are parentheses balanced in\", expression1 + \"?\", are_parentheses_balanced(expression1))  # Output: True\n",
    "print(\"Are parentheses balanced in\", expression2 + \"?\", are_parentheses_balanced(expression2))  # Output: False\n",
    "print(\"Are parentheses balanced in\", expression3 + \"?\", are_parentheses_balanced(expression3))  # Output: True\n"
   ]
  },
  {
   "cell_type": "markdown",
   "id": "10fcdbed-4c3d-447b-ae5f-f900b591228f",
   "metadata": {},
   "source": [
    "This function takes an expression as input and returns True if the parentheses in the expression are balanced, and False otherwise. It iterates through each character in the expression, using a stack to keep track of opening parentheses encountered. When a closing parenthesis is encountered, it checks if it matches the corresponding opening parenthesis on the top of the stack. If all parentheses are balanced, the stack will be empty at the end."
   ]
  },
  {
   "cell_type": "markdown",
   "id": "e4e1980b-a3cb-454f-b896-b80013d5e765",
   "metadata": {},
   "source": [
    "28. Write a Python program to implement a circular queue."
   ]
  },
  {
   "cell_type": "code",
   "execution_count": 10,
   "id": "c5002bb9-e0bb-437b-b9f2-11a548124b5e",
   "metadata": {},
   "outputs": [
    {
     "name": "stdout",
     "output_type": "stream",
     "text": [
      "1 2 3 4 5 \n",
      "Dequeued element: 1\n",
      "Dequeued element: 2\n",
      "3 4 5 6 7 \n"
     ]
    }
   ],
   "source": [
    "class CircularQueue:\n",
    "    def __init__(self, capacity):\n",
    "        self.capacity = capacity\n",
    "        self.queue = [None] * capacity\n",
    "        self.front = self.rear = -1\n",
    "\n",
    "    def enqueue(self, data):\n",
    "        if (self.rear + 1) % self.capacity == self.front:\n",
    "            print(\"Queue is full.\")\n",
    "        elif self.front == -1:\n",
    "            self.front = self.rear = 0\n",
    "            self.queue[self.rear] = data\n",
    "        else:\n",
    "            self.rear = (self.rear + 1) % self.capacity\n",
    "            self.queue[self.rear] = data\n",
    "\n",
    "    def dequeue(self):\n",
    "        if self.front == -1:\n",
    "            print(\"Queue is empty.\")\n",
    "            return None\n",
    "        elif self.front == self.rear:\n",
    "            data = self.queue[self.front]\n",
    "            self.front = self.rear = -1\n",
    "            return data\n",
    "        else:\n",
    "            data = self.queue[self.front]\n",
    "            self.front = (self.front + 1) % self.capacity\n",
    "            return data\n",
    "\n",
    "    def display(self):\n",
    "        if self.front == -1:\n",
    "            print(\"Queue is empty.\")\n",
    "        else:\n",
    "            i = self.front\n",
    "            while True:\n",
    "                print(self.queue[i], end=\" \")\n",
    "                if i == self.rear:\n",
    "                    break\n",
    "                i = (i + 1) % self.capacity\n",
    "            print()\n",
    "\n",
    "# Example usage:\n",
    "queue = CircularQueue(5)\n",
    "\n",
    "queue.enqueue(1)\n",
    "queue.enqueue(2)\n",
    "queue.enqueue(3)\n",
    "queue.enqueue(4)\n",
    "queue.enqueue(5)\n",
    "\n",
    "queue.display()  # Output: 1 2 3 4 5\n",
    "\n",
    "print(\"Dequeued element:\", queue.dequeue())  # Output: Dequeued element: 1\n",
    "print(\"Dequeued element:\", queue.dequeue())  # Output: Dequeued element: 2\n",
    "\n",
    "queue.enqueue(6)\n",
    "queue.enqueue(7)\n",
    "\n",
    "queue.display()  # Output: 3 4 5 6 7\n"
   ]
  },
  {
   "cell_type": "markdown",
   "id": "163c183b-b9b6-44ee-a7a5-f4a91534e555",
   "metadata": {},
   "source": [
    "In this implementation, the CircularQueue class represents a circular queue with a fixed capacity. The circular nature of the queue is achieved by using the modulo operator to calculate the indices of the front and rear elements. The enqueue method adds an element to the rear of the queue, the dequeue method removes and returns the element at the front of the queue, and the display method prints the elements of the queue."
   ]
  },
  {
   "cell_type": "markdown",
   "id": "5f78fe18-4b37-411a-8141-c0e78558d17c",
   "metadata": {},
   "source": [
    "29. Implement a function to simulate the Tower of Hanoi problem using stacks."
   ]
  },
  {
   "cell_type": "markdown",
   "id": "eb0a3559-ccf2-40ac-9a5e-41967501efdf",
   "metadata": {},
   "source": [
    "The Tower of Hanoi problem is a classic problem in computer science and mathematics. It involves three rods and a number of disks of different sizes which can slide onto any rod. The puzzle starts with the disks in a stack on one rod in ascending order of size, with the smallest disk on top, and the goal is to move all the disks to another rod, while obeying the following rules:\n",
    "\n",
    "1. Only one disk can be moved at a time.\n",
    "2. Each move consists of taking the top disk from one stack and placing it on top of another stack.\n",
    "3. No disk may be placed on top of a smaller disk.\n",
    "\n",
    "We can simulate the Tower of Hanoi problem using stacks recursively. Here's how we can do it:\n",
    "\n",
    "1. Define three stacks, representing the three rods.\n",
    "2. Recursively move the top n-1 disks from the source rod to the auxiliary rod, using the destination rod as a helper.\n",
    "3. Move the nth disk from the source rod to the destination rod.\n",
    "4. Recursively move the top n-1 disks from the auxiliary rod to the destination rod, using the source rod as a helper.\n",
    "\n",
    "In this implementation, the `Stack` class represents a stack data structure. The `tower_of_hanoi` function recursively solves the Tower of Hanoi problem by moving disks from the source rod to the destination rod using the auxiliary rod as a helper. Finally, we demonstrate the function's usage with an example of three disks."
   ]
  },
  {
   "cell_type": "code",
   "execution_count": 11,
   "id": "9ba36bca-2388-498b-a7d2-0ccecb7da137",
   "metadata": {},
   "outputs": [
    {
     "name": "stdout",
     "output_type": "stream",
     "text": [
      "Initial state:\n",
      "Source rod: [3, 2, 1]\n",
      "Auxiliary rod: []\n",
      "Destination rod: []\n",
      "\n",
      "After solving Tower of Hanoi:\n",
      "Source rod: []\n",
      "Auxiliary rod: []\n",
      "Destination rod: [3, 2, 1]\n"
     ]
    }
   ],
   "source": [
    "class Stack:\n",
    "    def __init__(self):\n",
    "        self.items = []\n",
    "\n",
    "    def push(self, item):\n",
    "        self.items.append(item)\n",
    "\n",
    "    def pop(self):\n",
    "        if not self.is_empty():\n",
    "            return self.items.pop()\n",
    "\n",
    "    def is_empty(self):\n",
    "        return len(self.items) == 0\n",
    "\n",
    "def tower_of_hanoi(n, source, auxiliary, destination):\n",
    "    if n == 1:\n",
    "        destination.push(source.pop())\n",
    "    else:\n",
    "        tower_of_hanoi(n-1, source, destination, auxiliary)\n",
    "        destination.push(source.pop())\n",
    "        tower_of_hanoi(n-1, auxiliary, source, destination)\n",
    "\n",
    "# Example usage:\n",
    "source_rod = Stack()\n",
    "auxiliary_rod = Stack()\n",
    "destination_rod = Stack()\n",
    "\n",
    "num_disks = 3\n",
    "for i in range(num_disks, 0, -1):\n",
    "    source_rod.push(i)\n",
    "\n",
    "print(\"Initial state:\")\n",
    "print(\"Source rod:\", source_rod.items)\n",
    "print(\"Auxiliary rod:\", auxiliary_rod.items)\n",
    "print(\"Destination rod:\", destination_rod.items)\n",
    "\n",
    "tower_of_hanoi(num_disks, source_rod, auxiliary_rod, destination_rod)\n",
    "\n",
    "print(\"\\nAfter solving Tower of Hanoi:\")\n",
    "print(\"Source rod:\", source_rod.items)\n",
    "print(\"Auxiliary rod:\", auxiliary_rod.items)\n",
    "print(\"Destination rod:\", destination_rod.items)\n"
   ]
  },
  {
   "cell_type": "markdown",
   "id": "e9e9d730-1900-4fba-8d45-bd10cbaf9db0",
   "metadata": {},
   "source": [
    "30. Write a Python program to implement a priority queue."
   ]
  },
  {
   "cell_type": "markdown",
   "id": "ae348059-5c06-4d02-839d-4b7a749f8255",
   "metadata": {},
   "source": [
    "A priority queue is a data structure similar to a regular queue or stack, but each element in the queue has a priority associated with it. The elements are dequeued based on their priority, with higher priority elements being dequeued first. \n",
    "\n",
    "One common way to implement a priority queue is using a heap data structure, which provides efficient insertion and removal of elements with respect to their priority.\n",
    "\n",
    "Here's an implementation of a priority queue using Python's `heapq` module:\n",
    "\n",
    "In this implementation:\n",
    "- `push(item, priority)`: Adds an item to the priority queue with the given priority.\n",
    "- `pop()`: Removes and returns the item with the highest priority from the priority queue.\n",
    "- `is_empty()`: Returns `True` if the priority queue is empty, `False` otherwise.\n",
    "\n",
    "The `heapq.heappush()` and `heapq.heappop()` functions are used to maintain the heap invariant in the priority queue, where the smallest element (according to the priority) is always at the root. The priority queue is implemented as a min-heap, where elements are sorted based on their priority. If two elements have the same priority, the insertion order is maintained."
   ]
  },
  {
   "cell_type": "code",
   "execution_count": 12,
   "id": "575b77fa-6493-436f-9131-5832b22b5e11",
   "metadata": {},
   "outputs": [
    {
     "name": "stdout",
     "output_type": "stream",
     "text": [
      "Priority Queue:\n",
      "Task 4\n",
      "Task 2\n",
      "Task 1\n",
      "Task 3\n"
     ]
    }
   ],
   "source": [
    "import heapq\n",
    "\n",
    "class PriorityQueue:\n",
    "    def __init__(self):\n",
    "        self.queue = []\n",
    "        self.index = 0  # Used to maintain insertion order for elements with the same priority\n",
    "\n",
    "    def push(self, item, priority):\n",
    "        heapq.heappush(self.queue, (priority, self.index, item))\n",
    "        self.index += 1\n",
    "\n",
    "    def pop(self):\n",
    "        if self.is_empty():\n",
    "            raise IndexError(\"pop from an empty priority queue\")\n",
    "        return heapq.heappop(self.queue)[2]\n",
    "\n",
    "    def is_empty(self):\n",
    "        return len(self.queue) == 0\n",
    "\n",
    "# Example usage:\n",
    "pq = PriorityQueue()\n",
    "\n",
    "pq.push(\"Task 1\", 5)\n",
    "pq.push(\"Task 2\", 3)\n",
    "pq.push(\"Task 3\", 7)\n",
    "pq.push(\"Task 4\", 1)\n",
    "\n",
    "print(\"Priority Queue:\")\n",
    "while not pq.is_empty():\n",
    "    print(pq.pop())\n"
   ]
  },
  {
   "cell_type": "code",
   "execution_count": null,
   "id": "7467fae5-553e-4e72-b76e-a898833e913c",
   "metadata": {},
   "outputs": [],
   "source": []
  }
 ],
 "metadata": {
  "kernelspec": {
   "display_name": "Python 3 (ipykernel)",
   "language": "python",
   "name": "python3"
  },
  "language_info": {
   "codemirror_mode": {
    "name": "ipython",
    "version": 3
   },
   "file_extension": ".py",
   "mimetype": "text/x-python",
   "name": "python",
   "nbconvert_exporter": "python",
   "pygments_lexer": "ipython3",
   "version": "3.11.5"
  }
 },
 "nbformat": 4,
 "nbformat_minor": 5
}
