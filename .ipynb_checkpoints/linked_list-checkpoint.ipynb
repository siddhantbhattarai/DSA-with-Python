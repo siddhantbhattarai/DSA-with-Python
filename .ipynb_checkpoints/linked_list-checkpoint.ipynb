{
 "cells": [
  {
   "cell_type": "markdown",
   "metadata": {},
   "source": [
    "Let's explore the topic of linked lists in detail:\n",
    "\n",
    "### Linked Lists:\n",
    "Linked lists are linear data structures consisting of a sequence of elements, called nodes, where each node contains a data element and a reference (or pointer) to the next node in the sequence.\n",
    "\n",
    "**Key Characteristics:**\n",
    "- Dynamic data structure: Linked lists can dynamically grow or shrink in size during program execution.\n",
    "- Memory efficiency: Nodes in a linked list are not necessarily stored in contiguous memory locations, allowing for efficient memory utilization.\n",
    "- Insertion and deletion: Insertion and deletion operations in a linked list can be performed in constant time (O(1)) if the position of insertion or deletion is known.\n",
    "- Flexible size: Linked lists can accommodate elements of varying sizes, and there's no need to preallocate memory for a fixed-size array.\n",
    "\n",
    "### Singly Linked Lists:\n",
    "In a singly linked list, each node contains data and a reference to the next node in the sequence. The last node points to null, indicating the end of the list.\n",
    "\n",
    "**Operations:**\n",
    "- **Insertion:** Nodes can be inserted at the beginning, end, or any position in the list.\n",
    "- **Deletion:** Nodes can be removed from the list based on their position or value.\n",
    "- **Traversal:** Elements can be accessed sequentially by following the references from one node to the next.\n",
    "\n",
    "### Doubly Linked Lists:\n",
    "In a doubly linked list, each node contains data and references to both the next and previous nodes in the sequence. This allows traversal in both forward and backward directions.\n",
    "\n",
    "**Additional Characteristics:**\n",
    "- **Traversal in both directions:** Allows efficient backward traversal from any node.\n",
    "- **More memory overhead:** Requires additional memory to store references to both next and previous nodes.\n",
    "\n",
    "### Circular Linked Lists:\n",
    "In a circular linked list, the last node points back to the first node, forming a circular structure. Circular linked lists can be singly or doubly linked.\n",
    "\n",
    "**Key Features:**\n",
    "- **No distinct beginning or end:** Since the last node points back to the first node, there's no clear beginning or end of the list.\n",
    "- **Useful for certain applications:** Circular linked lists are useful in applications where operations need to wrap around the list.\n",
    "\n",
    "### Implementation and Manipulation Techniques:\n",
    "Implementing and manipulating linked lists involves various techniques for performing operations such as insertion, deletion, traversal, and searching.\n",
    "\n",
    "**Common Techniques:**\n",
    "- **Node structure:** Define a node structure with data and pointers.\n",
    "- **Insertion:** Insert nodes at the beginning, end, or any position in the list.\n",
    "- **Deletion:** Remove nodes based on their position or value.\n",
    "- **Traversal:** Traverse the list to access or process elements.\n",
    "- **Searching:** Search for specific elements or values in the list.\n",
    "- **Memory management:** Proper memory allocation and deallocation to prevent memory leaks.\n",
    "- **Error handling:** Handle edge cases such as empty lists or invalid operations gracefully.\n",
    "\n",
    "Understanding these concepts and techniques is essential for effectively working with linked lists in programming. Practice implementing and manipulating linked lists through coding exercises to reinforce understanding and improve proficiency."
   ]
  },
  {
   "cell_type": "markdown",
   "metadata": {},
   "source": [
    "11. Implement a Python class for a singly linked list with methods to insert, delete, and search."
   ]
  },
  {
   "cell_type": "code",
   "execution_count": 1,
   "metadata": {},
   "outputs": [
    {
     "name": "stdout",
     "output_type": "stream",
     "text": [
      "1 -> 2 -> 3 -> 4 -> 5 -> None\n",
      "2 -> 4 -> 5 -> None\n",
      "Is 4 in the linked list? True\n",
      "Is 6 in the linked list? False\n"
     ]
    }
   ],
   "source": [
    "class Node:\n",
    "    def __init__(self, data):\n",
    "        self.data = data\n",
    "        self.next = None\n",
    "\n",
    "class SinglyLinkedList:\n",
    "    def __init__(self):\n",
    "        self.head = None\n",
    "\n",
    "    def insert(self, data):\n",
    "        \"\"\"\n",
    "        Insert a new node with the given data at the end of the linked list.\n",
    "\n",
    "        Parameters:\n",
    "        data: The data to be inserted into the linked list.\n",
    "        \"\"\"\n",
    "        new_node = Node(data)\n",
    "        if self.head is None:\n",
    "            self.head = new_node\n",
    "        else:\n",
    "            current = self.head\n",
    "            while current.next:\n",
    "                current = current.next\n",
    "            current.next = new_node\n",
    "\n",
    "    def delete(self, data):\n",
    "        \"\"\"\n",
    "        Delete the first occurrence of a node with the given data from the linked list.\n",
    "\n",
    "        Parameters:\n",
    "        data: The data of the node to be deleted from the linked list.\n",
    "        \"\"\"\n",
    "        if self.head is None:\n",
    "            return\n",
    "\n",
    "        if self.head.data == data:\n",
    "            self.head = self.head.next\n",
    "            return\n",
    "\n",
    "        current = self.head\n",
    "        while current.next:\n",
    "            if current.next.data == data:\n",
    "                current.next = current.next.next\n",
    "                return\n",
    "            current = current.next\n",
    "\n",
    "    def search(self, data):\n",
    "        \"\"\"\n",
    "        Search for a node with the given data in the linked list.\n",
    "\n",
    "        Parameters:\n",
    "        data: The data to be searched in the linked list.\n",
    "\n",
    "        Returns:\n",
    "        bool: True if the data is found in the linked list, False otherwise.\n",
    "        \"\"\"\n",
    "        current = self.head\n",
    "        while current:\n",
    "            if current.data == data:\n",
    "                return True\n",
    "            current = current.next\n",
    "        return False\n",
    "\n",
    "    def display(self):\n",
    "        \"\"\"\n",
    "        Display the elements of the linked list.\n",
    "        \"\"\"\n",
    "        current = self.head\n",
    "        while current:\n",
    "            print(current.data, end=\" -> \")\n",
    "            current = current.next\n",
    "        print(\"None\")\n",
    "\n",
    "# Example usage:\n",
    "linked_list = SinglyLinkedList()\n",
    "linked_list.insert(1)\n",
    "linked_list.insert(2)\n",
    "linked_list.insert(3)\n",
    "linked_list.insert(4)\n",
    "linked_list.insert(5)\n",
    "linked_list.display()  # Output: 1 -> 2 -> 3 -> 4 -> 5 -> None\n",
    "\n",
    "linked_list.delete(3)\n",
    "linked_list.delete(1)\n",
    "linked_list.display()  # Output: 2 -> 4 -> 5 -> None\n",
    "\n",
    "print(\"Is 4 in the linked list?\", linked_list.search(4))  # Output: True\n",
    "print(\"Is 6 in the linked list?\", linked_list.search(6))  # Output: False"
   ]
  },
  {
   "cell_type": "markdown",
   "metadata": {},
   "source": [
    "This implementation defines two classes: Node, representing a node in the linked list, and SinglyLinkedList, representing the linked list itself. The SinglyLinkedList class has methods to insert, delete, search, and display elements in the linked list. The example usage demonstrates how to use these methods to manipulate the linked list."
   ]
  },
  {
   "cell_type": "markdown",
   "metadata": {},
   "source": [
    "12. Write a function to reverse a singly linked list."
   ]
  },
  {
   "cell_type": "code",
   "execution_count": 1,
   "metadata": {},
   "outputs": [
    {
     "name": "stdout",
     "output_type": "stream",
     "text": [
      "Original linked list:\n",
      "1 -> 2 -> 3 -> 4 -> 5 -> None\n",
      "\n",
      "Reversed linked list:\n",
      "5 -> 4 -> 3 -> 2 -> 1 -> None\n"
     ]
    }
   ],
   "source": [
    "class Node:\n",
    "    def __init__(self, data):\n",
    "        self.data = data\n",
    "        self.next = None\n",
    "\n",
    "def reverse_linked_list(head):\n",
    "    \"\"\"\n",
    "    Reverse a singly linked list.\n",
    "\n",
    "    Parameters:\n",
    "    head (Node): The head node of the linked list.\n",
    "\n",
    "    Returns:\n",
    "    Node: The new head node of the reversed linked list.\n",
    "    \"\"\"\n",
    "    prev_node = None\n",
    "    current_node = head\n",
    "\n",
    "    while current_node:\n",
    "        next_node = current_node.next\n",
    "        current_node.next = prev_node\n",
    "        prev_node = current_node\n",
    "        current_node = next_node\n",
    "\n",
    "    return prev_node\n",
    "\n",
    "# Example usage:\n",
    "def display_linked_list(head):\n",
    "    current_node = head\n",
    "    while current_node:\n",
    "        print(current_node.data, end=\" -> \")\n",
    "        current_node = current_node.next\n",
    "    print(\"None\")\n",
    "\n",
    "# Create a sample linked list: 1 -> 2 -> 3 -> 4 -> 5 -> None\n",
    "head = Node(1)\n",
    "head.next = Node(2)\n",
    "head.next.next = Node(3)\n",
    "head.next.next.next = Node(4)\n",
    "head.next.next.next.next = Node(5)\n",
    "\n",
    "print(\"Original linked list:\")\n",
    "display_linked_list(head)  # Output: 1 -> 2 -> 3 -> 4 -> 5 -> None\n",
    "\n",
    "# Reverse the linked list\n",
    "new_head = reverse_linked_list(head)\n",
    "\n",
    "print(\"\\nReversed linked list:\")\n",
    "display_linked_list(new_head)  # Output: 5 -> 4 -> 3 -> 2 -> 1 -> None"
   ]
  },
  {
   "cell_type": "markdown",
   "metadata": {},
   "source": [
    "To reverse a singly linked list, we need to change the direction of the pointers in each node. Below is a Python function that reverses a singly linked list:\n",
    "\n",
    "In this implementation, the reverse_linked_list function takes the head of the original linked list as input and returns the head of the reversed linked list. It iterates through the linked list, changing the direction of pointers in each node to reverse the list. Finally, it returns the new head of the reversed list."
   ]
  },
  {
   "cell_type": "markdown",
   "metadata": {},
   "source": [
    "13. Implement a Python class for a doubly linked list with methods to insert, delete, and search."
   ]
  },
  {
   "cell_type": "code",
   "execution_count": 2,
   "metadata": {},
   "outputs": [
    {
     "name": "stdout",
     "output_type": "stream",
     "text": [
      "1 <-> 2 <-> 3 <-> 4 <-> 5 <-> None\n",
      "2 <-> 4 <-> 5 <-> None\n",
      "Is 4 in the doubly linked list? True\n",
      "Is 6 in the doubly linked list? False\n"
     ]
    }
   ],
   "source": [
    "class Node:\n",
    "    def __init__(self, data):\n",
    "        self.data = data\n",
    "        self.prev = None\n",
    "        self.next = None\n",
    "\n",
    "class DoublyLinkedList:\n",
    "    def __init__(self):\n",
    "        self.head = None\n",
    "\n",
    "    def insert(self, data):\n",
    "        \"\"\"\n",
    "        Insert a new node with the given data at the end of the doubly linked list.\n",
    "\n",
    "        Parameters:\n",
    "        data: The data to be inserted into the doubly linked list.\n",
    "        \"\"\"\n",
    "        new_node = Node(data)\n",
    "        if self.head is None:\n",
    "            self.head = new_node\n",
    "        else:\n",
    "            current = self.head\n",
    "            while current.next:\n",
    "                current = current.next\n",
    "            current.next = new_node\n",
    "            new_node.prev = current\n",
    "\n",
    "    def delete(self, data):\n",
    "        \"\"\"\n",
    "        Delete the first occurrence of a node with the given data from the doubly linked list.\n",
    "\n",
    "        Parameters:\n",
    "        data: The data of the node to be deleted from the doubly linked list.\n",
    "        \"\"\"\n",
    "        if self.head is None:\n",
    "            return\n",
    "\n",
    "        if self.head.data == data:\n",
    "            self.head = self.head.next\n",
    "            if self.head:\n",
    "                self.head.prev = None\n",
    "            return\n",
    "\n",
    "        current = self.head\n",
    "        while current.next:\n",
    "            if current.next.data == data:\n",
    "                current.next = current.next.next\n",
    "                if current.next:\n",
    "                    current.next.prev = current\n",
    "                return\n",
    "            current = current.next\n",
    "\n",
    "    def search(self, data):\n",
    "        \"\"\"\n",
    "        Search for a node with the given data in the doubly linked list.\n",
    "\n",
    "        Parameters:\n",
    "        data: The data to be searched in the doubly linked list.\n",
    "\n",
    "        Returns:\n",
    "        bool: True if the data is found in the doubly linked list, False otherwise.\n",
    "        \"\"\"\n",
    "        current = self.head\n",
    "        while current:\n",
    "            if current.data == data:\n",
    "                return True\n",
    "            current = current.next\n",
    "        return False\n",
    "\n",
    "    def display(self):\n",
    "        \"\"\"\n",
    "        Display the elements of the doubly linked list.\n",
    "        \"\"\"\n",
    "        current = self.head\n",
    "        while current:\n",
    "            print(current.data, end=\" <-> \")\n",
    "            current = current.next\n",
    "        print(\"None\")\n",
    "\n",
    "# Example usage:\n",
    "linked_list = DoublyLinkedList()\n",
    "linked_list.insert(1)\n",
    "linked_list.insert(2)\n",
    "linked_list.insert(3)\n",
    "linked_list.insert(4)\n",
    "linked_list.insert(5)\n",
    "linked_list.display()  # Output: 1 <-> 2 <-> 3 <-> 4 <-> 5 <-> None\n",
    "\n",
    "linked_list.delete(3)\n",
    "linked_list.delete(1)\n",
    "linked_list.display()  # Output: 2 <-> 4 <-> 5 <-> None\n",
    "\n",
    "print(\"Is 4 in the doubly linked list?\", linked_list.search(4))  # Output: True\n",
    "print(\"Is 6 in the doubly linked list?\", linked_list.search(6))  # Output: False\n"
   ]
  },
  {
   "cell_type": "markdown",
   "metadata": {},
   "source": [
    "This implementation defines two classes: Node, representing a node in the doubly linked list, and DoublyLinkedList, representing the doubly linked list itself. The DoublyLinkedList class has methods to insert, delete, search, and display elements in the doubly linked list. The example usage demonstrates how to use these methods to manipulate the doubly linked list."
   ]
  },
  {
   "cell_type": "markdown",
   "metadata": {},
   "source": [
    "14. Write a function to detect a cycle in a linked list."
   ]
  },
  {
   "cell_type": "code",
   "execution_count": 3,
   "metadata": {},
   "outputs": [
    {
     "name": "stdout",
     "output_type": "stream",
     "text": [
      "Does the linked list have a cycle? True\n"
     ]
    }
   ],
   "source": [
    "class Node:\n",
    "    def __init__(self, data):\n",
    "        self.data = data\n",
    "        self.next = None\n",
    "\n",
    "def has_cycle(head):\n",
    "    \"\"\"\n",
    "    Detects whether a linked list has a cycle using Floyd's cycle detection algorithm.\n",
    "\n",
    "    Parameters:\n",
    "    head (Node): The head node of the linked list.\n",
    "\n",
    "    Returns:\n",
    "    bool: True if the linked list has a cycle, False otherwise.\n",
    "    \"\"\"\n",
    "    if head is None:\n",
    "        return False\n",
    "\n",
    "    slow_ptr = head\n",
    "    fast_ptr = head.next\n",
    "\n",
    "    while fast_ptr and fast_ptr.next:\n",
    "        if slow_ptr == fast_ptr:\n",
    "            return True\n",
    "        slow_ptr = slow_ptr.next\n",
    "        fast_ptr = fast_ptr.next.next\n",
    "\n",
    "    return False\n",
    "\n",
    "# Example usage:\n",
    "# Create a linked list with a cycle: 1 -> 2 -> 3 -> 4 -> 5 -> 3 (cycle)\n",
    "head = Node(1)\n",
    "head.next = Node(2)\n",
    "head.next.next = Node(3)\n",
    "head.next.next.next = Node(4)\n",
    "head.next.next.next.next = Node(5)\n",
    "head.next.next.next.next.next = head.next.next  # Create a cycle\n",
    "\n",
    "print(\"Does the linked list have a cycle?\", has_cycle(head))  # Output: True\n"
   ]
  },
  {
   "cell_type": "markdown",
   "metadata": {},
   "source": [
    "To detect a cycle in a linked list, we can use Floyd's cycle detection algorithm (also known as the \"tortoise and hare\" algorithm). This algorithm uses two pointers moving through the linked list at different speeds. If there is a cycle, the two pointers will eventually meet."
   ]
  },
  {
   "cell_type": "markdown",
   "metadata": {},
   "source": [
    "In this implementation, the has_cycle function takes the head of the linked list as input and returns True if the linked list has a cycle, and False otherwise. It uses two pointers, slow_ptr and fast_ptr, which move through the linked list at different speeds. If there is a cycle, the two pointers will eventually meet. If the end of the linked list (fast_ptr or fast_ptr.next) is reached before the two pointers meet, then there is no cycle in the linked list.\n",
    "\n",
    "\n",
    "\n",
    "\n",
    "\n",
    "\n"
   ]
  },
  {
   "cell_type": "markdown",
   "metadata": {},
   "source": [
    "15. Implement a function to find the middle element of a linked list."
   ]
  },
  {
   "cell_type": "code",
   "execution_count": 4,
   "metadata": {},
   "outputs": [
    {
     "name": "stdout",
     "output_type": "stream",
     "text": [
      "Middle element of the linked list: 3\n"
     ]
    }
   ],
   "source": [
    "class Node:\n",
    "    def __init__(self, data):\n",
    "        self.data = data\n",
    "        self.next = None\n",
    "\n",
    "def find_middle(head):\n",
    "    \"\"\"\n",
    "    Finds the middle element of a linked list.\n",
    "\n",
    "    Parameters:\n",
    "    head (Node): The head node of the linked list.\n",
    "\n",
    "    Returns:\n",
    "    Node: The middle node of the linked list.\n",
    "    \"\"\"\n",
    "    if head is None:\n",
    "        return None\n",
    "\n",
    "    slow_ptr = head\n",
    "    fast_ptr = head\n",
    "\n",
    "    while fast_ptr and fast_ptr.next:\n",
    "        slow_ptr = slow_ptr.next\n",
    "        fast_ptr = fast_ptr.next.next\n",
    "\n",
    "    return slow_ptr\n",
    "\n",
    "# Example usage:\n",
    "# Create a linked list: 1 -> 2 -> 3 -> 4 -> 5\n",
    "head = Node(1)\n",
    "head.next = Node(2)\n",
    "head.next.next = Node(3)\n",
    "head.next.next.next = Node(4)\n",
    "head.next.next.next.next = Node(5)\n",
    "\n",
    "middle_node = find_middle(head)\n",
    "print(\"Middle element of the linked list:\", middle_node.data)  # Output: 3\n"
   ]
  },
  {
   "cell_type": "markdown",
   "metadata": {},
   "source": [
    "To find the middle element of a linked list, we can use the \"two-pointer\" approach. We'll use two pointers: one slow pointer that moves one node at a time, and one fast pointer that moves two nodes at a time. When the fast pointer reaches the end of the list, the slow pointer will be at the middle element."
   ]
  },
  {
   "cell_type": "markdown",
   "metadata": {},
   "source": [
    "In this implementation, the find_middle function takes the head of the linked list as input and returns the middle node of the linked list. It initializes two pointers, slow_ptr and fast_ptr, both starting from the head of the list. The slow_ptr moves one node at a time while the fast_ptr moves two nodes at a time. When the fast_ptr reaches the end of the list, the slow_ptr will be at the middle element."
   ]
  },
  {
   "cell_type": "markdown",
   "metadata": {},
   "source": [
    "16. Write a Python program to merge two sorted linked lists."
   ]
  },
  {
   "cell_type": "code",
   "execution_count": 5,
   "metadata": {},
   "outputs": [
    {
     "name": "stdout",
     "output_type": "stream",
     "text": [
      "1 -> 2 -> 3 -> 4 -> 5 -> 6 -> None\n"
     ]
    }
   ],
   "source": [
    "class Node:\n",
    "    def __init__(self, data):\n",
    "        self.data = data\n",
    "        self.next = None\n",
    "\n",
    "def merge_sorted_lists(head1, head2):\n",
    "    \"\"\"\n",
    "    Merges two sorted linked lists into a single sorted linked list.\n",
    "\n",
    "    Parameters:\n",
    "    head1 (Node): The head node of the first sorted linked list.\n",
    "    head2 (Node): The head node of the second sorted linked list.\n",
    "\n",
    "    Returns:\n",
    "    Node: The head node of the merged sorted linked list.\n",
    "    \"\"\"\n",
    "    if head1 is None:\n",
    "        return head2\n",
    "    if head2 is None:\n",
    "        return head1\n",
    "\n",
    "    if head1.data <= head2.data:\n",
    "        merged_head = head1\n",
    "        head1 = head1.next\n",
    "    else:\n",
    "        merged_head = head2\n",
    "        head2 = head2.next\n",
    "\n",
    "    current = merged_head\n",
    "\n",
    "    while head1 and head2:\n",
    "        if head1.data <= head2.data:\n",
    "            current.next = head1\n",
    "            head1 = head1.next\n",
    "        else:\n",
    "            current.next = head2\n",
    "            head2 = head2.next\n",
    "        current = current.next\n",
    "\n",
    "    if head1:\n",
    "        current.next = head1\n",
    "    elif head2:\n",
    "        current.next = head2\n",
    "\n",
    "    return merged_head\n",
    "\n",
    "# Example usage:\n",
    "# Create two sorted linked lists: 1 -> 3 -> 5 and 2 -> 4 -> 6\n",
    "head1 = Node(1)\n",
    "head1.next = Node(3)\n",
    "head1.next.next = Node(5)\n",
    "\n",
    "head2 = Node(2)\n",
    "head2.next = Node(4)\n",
    "head2.next.next = Node(6)\n",
    "\n",
    "merged_head = merge_sorted_lists(head1, head2)\n",
    "\n",
    "# Display the merged sorted linked list\n",
    "current = merged_head\n",
    "while current:\n",
    "    print(current.data, end=\" -> \")\n",
    "    current = current.next\n",
    "print(\"None\")"
   ]
  },
  {
   "cell_type": "markdown",
   "metadata": {},
   "source": [
    "To merge two sorted linked lists, we can iterate through both lists simultaneously, comparing the elements at each position and appending the smaller element to the merged list."
   ]
  },
  {
   "cell_type": "markdown",
   "metadata": {},
   "source": [
    "In this implementation, the merge_sorted_lists function takes the head nodes of two sorted linked lists as input and returns the head node of the merged sorted linked list. It iterates through both lists simultaneously, comparing the elements at each position and appending the smaller element to the merged list. Finally, it returns the head node of the merged list."
   ]
  },
  {
   "cell_type": "markdown",
   "metadata": {},
   "source": [
    "17. Implement a function to remove the nth node from the end of a linked list."
   ]
  },
  {
   "cell_type": "code",
   "execution_count": 6,
   "metadata": {},
   "outputs": [
    {
     "name": "stdout",
     "output_type": "stream",
     "text": [
      "1 -> 2 -> 3 -> 5 -> None\n"
     ]
    }
   ],
   "source": [
    "class Node:\n",
    "    def __init__(self, data):\n",
    "        self.data = data\n",
    "        self.next = None\n",
    "\n",
    "def remove_nth_from_end(head, n):\n",
    "    \"\"\"\n",
    "    Removes the nth node from the end of a linked list.\n",
    "\n",
    "    Parameters:\n",
    "    head (Node): The head node of the linked list.\n",
    "    n (int): The position of the node to be removed from the end of the list.\n",
    "\n",
    "    Returns:\n",
    "    Node: The head node of the updated linked list.\n",
    "    \"\"\"\n",
    "    dummy = Node(0)\n",
    "    dummy.next = head\n",
    "    slow_ptr = dummy\n",
    "    fast_ptr = dummy\n",
    "\n",
    "    # Move the fast pointer n nodes ahead\n",
    "    for _ in range(n + 1):\n",
    "        fast_ptr = fast_ptr.next\n",
    "\n",
    "    # Move both pointers until the fast pointer reaches the end of the list\n",
    "    while fast_ptr:\n",
    "        slow_ptr = slow_ptr.next\n",
    "        fast_ptr = fast_ptr.next\n",
    "\n",
    "    # Remove the nth node from the end of the list\n",
    "    slow_ptr.next = slow_ptr.next.next\n",
    "\n",
    "    return dummy.next\n",
    "\n",
    "# Example usage:\n",
    "# Create a linked list: 1 -> 2 -> 3 -> 4 -> 5\n",
    "head = Node(1)\n",
    "head.next = Node(2)\n",
    "head.next.next = Node(3)\n",
    "head.next.next.next = Node(4)\n",
    "head.next.next.next.next = Node(5)\n",
    "\n",
    "n = 2\n",
    "updated_head = remove_nth_from_end(head, n)\n",
    "\n",
    "# Display the updated linked list\n",
    "current = updated_head\n",
    "while current:\n",
    "    print(current.data, end=\" -> \")\n",
    "    current = current.next\n",
    "print(\"None\")"
   ]
  },
  {
   "cell_type": "markdown",
   "metadata": {},
   "source": [
    "To remove the nth node from the end of a linked list, we can use the \"two-pointer\" approach. We'll use two pointers: one slow pointer that moves one node at a time, and one fast pointer that moves n nodes ahead. When the fast pointer reaches the end of the list, the slow pointer will be at the node preceding the node to be removed."
   ]
  },
  {
   "cell_type": "markdown",
   "metadata": {},
   "source": [
    "In this implementation, the remove_nth_from_end function takes the head of the linked list and the position of the node to be removed as input and returns the head node of the updated linked list. It initializes two pointers, slow_ptr and fast_ptr, both starting from a dummy node. The fast_ptr moves n nodes ahead. Then, both pointers move forward until the fast_ptr reaches the end of the list. Finally, the nth node from the end is removed by updating the next pointer of the preceding node."
   ]
  },
  {
   "cell_type": "markdown",
   "metadata": {},
   "source": [
    "18. Write a Python program to partition a linked list around a value x."
   ]
  },
  {
   "cell_type": "code",
   "execution_count": 7,
   "metadata": {},
   "outputs": [
    {
     "name": "stdout",
     "output_type": "stream",
     "text": [
      "1 -> 2 -> 2 -> 4 -> 3 -> 5 -> None\n"
     ]
    }
   ],
   "source": [
    "class Node:\n",
    "    def __init__(self, data):\n",
    "        self.data = data\n",
    "        self.next = None\n",
    "\n",
    "def partition_linked_list(head, x):\n",
    "    \"\"\"\n",
    "    Partitions a linked list around a value x.\n",
    "\n",
    "    Parameters:\n",
    "    head (Node): The head node of the linked list.\n",
    "    x (int): The value around which the list is partitioned.\n",
    "\n",
    "    Returns:\n",
    "    Node: The head node of the partitioned linked list.\n",
    "    \"\"\"\n",
    "    # Initialize two dummy nodes for the two partitions\n",
    "    before_head = Node(0)\n",
    "    after_head = Node(0)\n",
    "    before_ptr = before_head\n",
    "    after_ptr = after_head\n",
    "\n",
    "    current = head\n",
    "\n",
    "    # Traverse the original list and partition nodes\n",
    "    while current:\n",
    "        if current.data < x:\n",
    "            before_ptr.next = current\n",
    "            before_ptr = before_ptr.next\n",
    "        else:\n",
    "            after_ptr.next = current\n",
    "            after_ptr = after_ptr.next\n",
    "        current = current.next\n",
    "\n",
    "    # Connect the two partitions\n",
    "    after_ptr.next = None\n",
    "    before_ptr.next = after_head.next\n",
    "\n",
    "    return before_head.next\n",
    "\n",
    "# Helper function to display the linked list\n",
    "def display_linked_list(head):\n",
    "    current = head\n",
    "    while current:\n",
    "        print(current.data, end=\" -> \")\n",
    "        current = current.next\n",
    "    print(\"None\")\n",
    "\n",
    "# Example usage:\n",
    "# Create a linked list: 1 -> 4 -> 3 -> 2 -> 5 -> 2\n",
    "head = Node(1)\n",
    "head.next = Node(4)\n",
    "head.next.next = Node(3)\n",
    "head.next.next.next = Node(2)\n",
    "head.next.next.next.next = Node(5)\n",
    "head.next.next.next.next.next = Node(2)\n",
    "\n",
    "x = 3\n",
    "partitioned_head = partition_linked_list(head, x)\n",
    "\n",
    "# Display the partitioned linked list\n",
    "display_linked_list(partitioned_head)"
   ]
  },
  {
   "cell_type": "markdown",
   "metadata": {},
   "source": [
    "To partition a linked list around a given value 𝑥, we can create two separate linked lists: one for nodes with values less than 𝑥 and another for nodes with values greater than or equal to 𝑥. Then, we concatenate these two lists."
   ]
  },
  {
   "cell_type": "markdown",
   "metadata": {},
   "source": [
    "In this implementation, the partition_linked_list function takes the head of the linked list and the partition value \n",
    "𝑥 as input and returns the head node of the partitioned linked list. It initializes two dummy nodes, before_head and after_head, to represent the two partitions. Then, it traverses the original list and partitions nodes based on their values. Finally, it connects the two partitions and returns the head of the partitioned list."
   ]
  },
  {
   "cell_type": "markdown",
   "metadata": {},
   "source": [
    "19. Implement a function to add two numbers represented by linked lists."
   ]
  },
  {
   "cell_type": "code",
   "execution_count": 8,
   "metadata": {},
   "outputs": [
    {
     "name": "stdout",
     "output_type": "stream",
     "text": [
      "7 -> 0 -> 8 -> None\n"
     ]
    }
   ],
   "source": [
    "class Node:\n",
    "    def __init__(self, data):\n",
    "        self.data = data\n",
    "        self.next = None\n",
    "\n",
    "def add_linked_lists(head1, head2):\n",
    "    \"\"\"\n",
    "    Adds two numbers represented by linked lists.\n",
    "\n",
    "    Parameters:\n",
    "    head1 (Node): The head node of the first linked list.\n",
    "    head2 (Node): The head node of the second linked list.\n",
    "\n",
    "    Returns:\n",
    "    Node: The head node of the resulting linked list representing the sum.\n",
    "    \"\"\"\n",
    "    dummy = Node(0)\n",
    "    current = dummy\n",
    "    carry = 0\n",
    "\n",
    "    while head1 or head2 or carry:\n",
    "        # Calculate the sum of current digits and carry\n",
    "        sum_val = carry\n",
    "        if head1:\n",
    "            sum_val += head1.data\n",
    "            head1 = head1.next\n",
    "        if head2:\n",
    "            sum_val += head2.data\n",
    "            head2 = head2.next\n",
    "\n",
    "        # Update carry and result\n",
    "        carry = sum_val // 10\n",
    "        sum_val %= 10\n",
    "        current.next = Node(sum_val)\n",
    "        current = current.next\n",
    "\n",
    "    return dummy.next\n",
    "\n",
    "# Helper function to display the linked list\n",
    "def display_linked_list(head):\n",
    "    current = head\n",
    "    while current:\n",
    "        print(current.data, end=\" -> \")\n",
    "        current = current.next\n",
    "    print(\"None\")\n",
    "\n",
    "# Example usage:\n",
    "# Create two linked lists: 2 -> 4 -> 3 and 5 -> 6 -> 4\n",
    "head1 = Node(2)\n",
    "head1.next = Node(4)\n",
    "head1.next.next = Node(3)\n",
    "\n",
    "head2 = Node(5)\n",
    "head2.next = Node(6)\n",
    "head2.next.next = Node(4)\n",
    "\n",
    "# Add the two linked lists\n",
    "result_head = add_linked_lists(head1, head2)\n",
    "\n",
    "# Display the result linked list\n",
    "display_linked_list(result_head)"
   ]
  },
  {
   "cell_type": "markdown",
   "metadata": {},
   "source": [
    "To add two numbers represented by linked lists, we can traverse both linked lists simultaneously, adding corresponding nodes' values along with carry. We'll create a new linked list to store the result."
   ]
  },
  {
   "cell_type": "markdown",
   "metadata": {},
   "source": [
    "In this implementation, the add_linked_lists function takes the head nodes of two linked lists representing numbers as input and returns the head node of the resulting linked list representing the sum. It iterates through both linked lists simultaneously, calculating the sum of corresponding digits along with carry. The result is stored in a new linked list, and the carry is propagated to the next digits. Finally, it returns the head of the result linked list."
   ]
  },
  {
   "cell_type": "markdown",
   "metadata": {},
   "source": [
    "20. Write a Python program to check if a linked list is a palindrome."
   ]
  },
  {
   "cell_type": "markdown",
   "metadata": {},
   "source": [
    "To check if a linked list is a palindrome, we can use the following approach:\n",
    "\n",
    "- Traverse the linked list and store the values of each node in a list.\n",
    "- Use two pointers, one starting from the beginning of the list and the other starting from the end of the list.\n",
    "- Compare the values pointed to by the two pointers. If they are equal, move the pointers towards each other. If not, the linked list is not a palindrome.\n",
    "- Continue this process until the pointers meet or cross each other. If they meet or cross, the linked list is a palindrome."
   ]
  },
  {
   "cell_type": "code",
   "execution_count": 9,
   "metadata": {},
   "outputs": [
    {
     "name": "stdout",
     "output_type": "stream",
     "text": [
      "Is the linked list a palindrome? True\n"
     ]
    }
   ],
   "source": [
    "class Node:\n",
    "    def __init__(self, data):\n",
    "        self.data = data\n",
    "        self.next = None\n",
    "\n",
    "def is_palindrome(head):\n",
    "    \"\"\"\n",
    "    Checks if a linked list is a palindrome.\n",
    "\n",
    "    Parameters:\n",
    "    head (Node): The head node of the linked list.\n",
    "\n",
    "    Returns:\n",
    "    bool: True if the linked list is a palindrome, False otherwise.\n",
    "    \"\"\"\n",
    "    # Function to reverse a linked list\n",
    "    def reverse_linked_list(node):\n",
    "        prev = None\n",
    "        current = node\n",
    "        while current:\n",
    "            next_node = current.next\n",
    "            current.next = prev\n",
    "            prev = current\n",
    "            current = next_node\n",
    "        return prev\n",
    "\n",
    "    # Function to find the middle of a linked list\n",
    "    def find_middle(node):\n",
    "        slow_ptr = node\n",
    "        fast_ptr = node\n",
    "        while fast_ptr and fast_ptr.next:\n",
    "            slow_ptr = slow_ptr.next\n",
    "            fast_ptr = fast_ptr.next.next\n",
    "        return slow_ptr\n",
    "\n",
    "    # Find the middle of the linked list\n",
    "    middle_node = find_middle(head)\n",
    "\n",
    "    # Reverse the second half of the linked list\n",
    "    second_half_head = reverse_linked_list(middle_node)\n",
    "\n",
    "    # Compare the first half and reversed second half of the linked list\n",
    "    first_half = head\n",
    "    second_half = second_half_head\n",
    "    while second_half:\n",
    "        if first_half.data != second_half.data:\n",
    "            return False\n",
    "        first_half = first_half.next\n",
    "        second_half = second_half.next\n",
    "\n",
    "    return True\n",
    "\n",
    "# Example usage:\n",
    "# Create a palindrome linked list: 1 -> 2 -> 3 -> 2 -> 1\n",
    "head = Node(1)\n",
    "head.next = Node(2)\n",
    "head.next.next = Node(3)\n",
    "head.next.next.next = Node(2)\n",
    "head.next.next.next.next = Node(1)\n",
    "\n",
    "print(\"Is the linked list a palindrome?\", is_palindrome(head))  # Output: True"
   ]
  },
  {
   "cell_type": "markdown",
   "metadata": {},
   "source": [
    "In this implementation, the is_palindrome function takes the head node of a linked list as input and returns True if the linked list is a palindrome and False otherwise. It first finds the middle node of the linked list using the \"slow pointer, fast pointer\" approach. Then, it reverses the second half of the linked list. Finally, it compares the values of nodes in the first half with the reversed second half. If all values match, the linked list is a palindrome."
   ]
  },
  {
   "cell_type": "code",
   "execution_count": null,
   "metadata": {},
   "outputs": [],
   "source": []
  },
  {
   "cell_type": "code",
   "execution_count": null,
   "metadata": {},
   "outputs": [],
   "source": []
  }
 ],
 "metadata": {
  "kernelspec": {
   "display_name": "Python 3 (ipykernel)",
   "language": "python",
   "name": "python3"
  },
  "language_info": {
   "codemirror_mode": {
    "name": "ipython",
    "version": 3
   },
   "file_extension": ".py",
   "mimetype": "text/x-python",
   "name": "python",
   "nbconvert_exporter": "python",
   "pygments_lexer": "ipython3",
   "version": "3.11.5"
  }
 },
 "nbformat": 4,
 "nbformat_minor": 4
}
