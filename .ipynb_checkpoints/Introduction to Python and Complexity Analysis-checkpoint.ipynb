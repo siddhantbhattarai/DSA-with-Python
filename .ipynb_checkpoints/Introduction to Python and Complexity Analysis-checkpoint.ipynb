{
 "cells": [
  {
   "cell_type": "markdown",
   "metadata": {},
   "source": [
    "### Introduction to Python and Complexity Analysis\n",
    "\n",
    "#### Overview of Python Programming Language:\n",
    "Python is a high-level, interpreted programming language known for its simplicity and readability. It offers dynamic typing, automatic memory management, and a rich set of libraries and frameworks, making it suitable for various applications such as web development, data analysis, machine learning, and scripting.\n",
    "\n",
    "**Key Features of Python:**\n",
    "- Clear and readable syntax\n",
    "- Dynamically typed (no need to declare variables)\n",
    "- Automatic memory management (garbage collection)\n",
    "- Extensive standard library and third-party packages\n",
    "- Object-oriented, imperative, and functional programming paradigms\n",
    "- Cross-platform compatibility\n",
    "\n",
    "#### Basic Data Types and Operations:\n",
    "Python supports several built-in data types and operations for handling different kinds of data efficiently. Some of the fundamental data types include:\n",
    "- **Integer (int):** Whole numbers without a fractional component.\n",
    "- **Float (float):** Real numbers with a decimal point.\n",
    "- **String (str):** Ordered collection of characters enclosed within single or double quotes.\n",
    "- **Boolean (bool):** Represents truth values, either True or False.\n",
    "\n",
    "**Basic Operations:**\n",
    "- Arithmetic operations: addition (+), subtraction (-), multiplication (*), division (/), exponentiation (**), modulus (%), floor division (//).\n",
    "- String operations: concatenation (+), repetition (*), slicing ([]), indexing.\n",
    "- Comparison operators: equal to (==), not equal to (!=), greater than (>), less than (<), etc.\n",
    "- Logical operators: and, or, not.\n",
    "\n",
    "**Example:**\n",
    "```python\n",
    "# Basic data types and operations\n",
    "num1 = 10\n",
    "num2 = 3.5\n",
    "string1 = \"Hello\"\n",
    "string2 = 'World'\n",
    "is_true = True\n",
    "\n",
    "# Arithmetic operations\n",
    "result = num1 + num2\n",
    "print(\"Result:\", result)\n",
    "\n",
    "# String operations\n",
    "concatenated_string = string1 + \" \" + string2\n",
    "print(\"Concatenated string:\", concatenated_string)\n",
    "\n",
    "# Comparison operators\n",
    "print(\"Is num1 greater than num2?\", num1 > num2)\n",
    "\n",
    "# Logical operators\n",
    "print(\"Is num1 greater than 5 and num2 less than 4?\", num1 > 5 and num2 < 4)\n",
    "```\n",
    "\n",
    "#### Time and Space Complexity Analysis:\n",
    "Time complexity and space complexity are crucial factors in analyzing the efficiency of algorithms. They help us understand how the runtime and memory usage of an algorithm scale with input size.\n",
    "\n",
    "**Time Complexity:** It measures the amount of time taken by an algorithm to run as a function of the length of the input. It is typically expressed using Big O notation.\n",
    "\n",
    "**Space Complexity:** It measures the amount of memory space required by an algorithm to run as a function of the length of the input. It is also expressed using Big O notation.\n",
    "\n",
    "**Common Time Complexities:**\n",
    "- O(1) - Constant time\n",
    "- O(log n) - Logarithmic time\n",
    "- O(n) - Linear time\n",
    "- O(n log n) - Linearithmic time\n",
    "- O(n^2) - Quadratic time\n",
    "- O(2^n) - Exponential time\n",
    "\n",
    "**Example:**\n",
    "```python\n",
    "def linear_search(arr, target):\n",
    "    for num in arr:\n",
    "        if num == target:\n",
    "            return True\n",
    "    return False\n",
    "\n",
    "# Time complexity of linear search: O(n)\n",
    "# Space complexity of linear search: O(1)\n",
    "```\n",
    "\n",
    "In this course, we will delve deeper into time and space complexity analysis to understand how different data structures and algorithms perform under various scenarios. We will learn techniques to optimize algorithms for better performance and efficiency.\n",
    "\n",
    "Let's embark on this journey to master Data Structures and Algorithms using Python!"
   ]
  },
  {
   "cell_type": "markdown",
   "metadata": {
    "vscode": {
     "languageId": "plaintext"
    }
   },
   "source": [
    "#### Arrays and Strings:\n",
    "1. Write a Python function to reverse an array."
   ]
  },
  {
   "cell_type": "code",
   "execution_count": 17,
   "metadata": {
    "vscode": {
     "languageId": "plaintext"
    }
   },
   "outputs": [
    {
     "name": "stdout",
     "output_type": "stream",
     "text": [
      "Original Array: [1, 2, 3, 4, 5]\n",
      "Reversed Array: [5, 4, 3, 2, 1]\n"
     ]
    }
   ],
   "source": [
    "# Reverse the array with list of intergers \n",
    "int_arr = [1, 2, 3, 4, 5]\n",
    "\n",
    "# define a function\n",
    "def reverse_array(int_arr):\n",
    "    # Initialize two pointers, one at the beginning and one at the end of the array\n",
    "    left = 0\n",
    "    right = len(int_arr) - 1\n",
    "\n",
    "    # Swap elements symmetrically around the center of the array\n",
    "    while left < right:\n",
    "        int_arr[left], int_arr[right] = int_arr[right], int_arr[left]\n",
    "        left += 1\n",
    "        right -= 1\n",
    "\n",
    "    return int_arr\n",
    "\n",
    "print(\"Original Array:\", int_arr)\n",
    "reversed_arr = reverse_array(int_arr)\n",
    "print(\"Reversed Array:\", reversed_arr)"
   ]
  },
  {
   "cell_type": "code",
   "execution_count": 18,
   "metadata": {},
   "outputs": [
    {
     "name": "stdout",
     "output_type": "stream",
     "text": [
      "Original String Array: ['apple', 'banana', 'cherry', 'orange', 'grape']\n",
      "Reverse String Array: ['grape', 'orange', 'cherry', 'banana', 'apple']\n"
     ]
    }
   ],
   "source": [
    "# Reverse the array with list of string\n",
    "str_arr = [\"apple\", \"banana\", \"cherry\", \"orange\", \"grape\"]\n",
    "\n",
    "# define a function to reverse the array\n",
    "def reverse_str_arr(str_arr):\n",
    "    # Initialize two pointers, one at the beginning and one at the end of the array\n",
    "    left = 0\n",
    "    right = len(str_arr) - 1\n",
    "\n",
    "    while left < right:\n",
    "        str_arr[left], str_arr[right] = str_arr[right], str_arr[left]\n",
    "        left += 1\n",
    "        right -= 1\n",
    "\n",
    "    return str_arr\n",
    "\n",
    "print(\"Original String Array:\", str_arr)\n",
    "reversed_str_arr = reverse_str_arr(str_arr) \n",
    "print(\"Reverse String Array:\", reversed_str_arr)"
   ]
  },
  {
   "cell_type": "markdown",
   "metadata": {},
   "source": [
    "2. Implement a function to find the maximum element in an array."
   ]
  },
  {
   "cell_type": "code",
   "execution_count": 23,
   "metadata": {},
   "outputs": [
    {
     "name": "stdout",
     "output_type": "stream",
     "text": [
      "Array: [5, 10, 13, 15, 100, 24, 101, 65]\n",
      "Maximum Element: 101\n"
     ]
    }
   ],
   "source": [
    "# define an array with list of integers\n",
    "arr = [5, 10, 13, 15, 100, 24, 101, 65]\n",
    "\n",
    "# define a function to check the max element in an array\n",
    "def find_max_element(arr):\n",
    "    if not arr:\n",
    "        raise ValueError(\"Array is empty\")\n",
    "\n",
    "    max_element = arr[0] # Initialize max_element with the first element of the array\n",
    "\n",
    "    for num in arr:\n",
    "        if num > max_element:\n",
    "            max_element = num # Update max_element if a larger element is found\n",
    "\n",
    "    return max_element\n",
    "\n",
    "print(\"Array:\", arr)\n",
    "max_element = find_max_element(arr)\n",
    "print(\"Maximum Element:\", max_element)"
   ]
  },
  {
   "cell_type": "markdown",
   "metadata": {},
   "source": [
    "3. Write a Python program to rotate an array to the left by n positions."
   ]
  },
  {
   "cell_type": "code",
   "execution_count": 27,
   "metadata": {},
   "outputs": [
    {
     "name": "stdout",
     "output_type": "stream",
     "text": [
      "Original Array: ['apple', 'banana', 'cherry', 'orange', 'grape']\n",
      "Array rotated left by 2 positions: ['cherry', 'orange', 'grape', 'apple', 'banana']\n"
     ]
    }
   ],
   "source": [
    "# define a function \n",
    "def rotate_arr_left(arr, n):\n",
    "    if not arr:\n",
    "        raise ValueError(\"Array is empty\")\n",
    "\n",
    "    # Calculate the effective number of rotation\n",
    "    rotations = n % len(arr)\n",
    "\n",
    "    # Rotate the array to the left \n",
    "    rotated_arr = arr[rotations:] + arr[:rotations]\n",
    "\n",
    "    return rotated_arr\n",
    "\n",
    "# Example Usage:\n",
    "arr = [5, 10, 15, 20, 25]\n",
    "n = 2\n",
    "rotated_arr = rotate_arr_left(arr, n)\n",
    "print(\"Original Array:\", arr)\n",
    "print(f\"Array rotated left by {n} positions: {rotated_arr}\")"
   ]
  },
  {
   "cell_type": "code",
   "execution_count": 33,
   "metadata": {},
   "outputs": [
    {
     "name": "stdout",
     "output_type": "stream",
     "text": [
      "Original Array ['apple', 'banana', 'cherry', 'orange', 'grape']\n",
      "Array rotated left by 2 positions:['cherry', 'orange', 'grape', 'apple', 'banana']\n"
     ]
    }
   ],
   "source": [
    "# lets do the same for string \n",
    "# define a function\n",
    "def rotate_string_left(str_arr, n):\n",
    "    if not str_arr:\n",
    "        raise ValueError(\"Array is empty\")\n",
    "\n",
    "    rotations = n % len(str_arr)\n",
    "\n",
    "    rotated_str_arr = str_arr[rotations:] + str_arr[:rotations]\n",
    "\n",
    "    return rotated_str_arr\n",
    "\n",
    "# Example Usage:\n",
    "str_arr = [\"apple\", \"banana\", \"cherry\", \"orange\", \"grape\"]\n",
    "n = 2\n",
    "rotated_str_arr = rotate_string_left(str_arr, n)\n",
    "print(\"Original Array\", str_arr)\n",
    "print(f\"Array rotated left by {n} positions:{rotated_str_arr}\")"
   ]
  }
 ],
 "metadata": {
  "kernelspec": {
   "display_name": "Python 3 (ipykernel)",
   "language": "python",
   "name": "python3"
  },
  "language_info": {
   "codemirror_mode": {
    "name": "ipython",
    "version": 3
   },
   "file_extension": ".py",
   "mimetype": "text/x-python",
   "name": "python",
   "nbconvert_exporter": "python",
   "pygments_lexer": "ipython3",
   "version": "3.11.5"
  }
 },
 "nbformat": 4,
 "nbformat_minor": 4
}
