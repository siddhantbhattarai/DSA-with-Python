{
 "cells": [
  {
   "cell_type": "markdown",
   "metadata": {},
   "source": [
    "### Introduction to Arrays and Strings:\n",
    "Arrays and strings are fundamental data structures used in programming to store collections of elements.\n",
    "\n",
    "**Arrays:**\n",
    "- Arrays are a collection of elements of the same data type stored in contiguous memory locations.\n",
    "- Elements in an array are accessed using an index.\n",
    "- Arrays have a fixed size, meaning the number of elements in an array is predetermined.\n",
    "- Common operations on arrays include insertion, deletion, traversal, sorting, and searching.\n",
    "\n",
    "**Strings:**\n",
    "- Strings are a sequence of characters.\n",
    "- Strings are usually represented using arrays of characters.\n",
    "- Operations on strings include concatenation, substring extraction, comparison, and searching.\n",
    "- Strings may be mutable (modifiable) or immutable (unchangeable) depending on the programming language.\n",
    "\n",
    "### Array Manipulation Techniques:\n",
    "Array manipulation involves performing various operations on arrays to modify their contents.\n",
    "\n",
    "**Common Techniques:**\n",
    "- Initializing arrays: Declaring and allocating memory for arrays.\n",
    "- Accessing elements: Retrieving elements from an array using their indices.\n",
    "- Modifying elements: Changing the value of elements in an array.\n",
    "- Adding elements: Appending or inserting elements into an array.\n",
    "- Removing elements: Deleting elements from an array.\n",
    "- Slicing arrays: Extracting a portion of an array.\n",
    "- Sorting arrays: Arranging elements in a specific order.\n",
    "- Searching in arrays: Finding the position or presence of elements.\n",
    "- Traversal: Iterating over elements in an array.\n",
    "\n",
    "### String Manipulation and Algorithms:\n",
    "String manipulation involves performing various operations on strings to modify or analyze their contents.\n",
    "\n",
    "**Basic Operations:**\n",
    "- Concatenation: Joining two or more strings together.\n",
    "- Length: Determining the number of characters in a string.\n",
    "- Indexing: Accessing individual characters in a string.\n",
    "- Comparison: Comparing two strings for equality or ordering.\n",
    "- Substring extraction: Extracting a portion of a string.\n",
    "- Reversing: Reversing the characters in a string.\n",
    "- Finding substrings: Locating occurrences of substrings within a string.\n",
    "- Counting occurrences: Determining the frequency of characters or substrings.\n",
    "- Splitting and joining: Breaking a string into substrings or combining substrings into a single string.\n",
    "- Pattern matching algorithms: Algorithms for finding specific patterns within strings, such as Brute Force, Knuth-Morris-Pratt, Rabin-Karp, etc.\n",
    "\n",
    "Understanding these fundamental concepts and techniques is crucial for effective programming, as arrays and strings are extensively used in various applications and algorithms. Practice and experimentation with these concepts through coding exercises will help reinforce learning and improve proficiency."
   ]
  },
  {
   "cell_type": "markdown",
   "metadata": {
    "vscode": {
     "languageId": "plaintext"
    }
   },
   "source": [
    "#### Arrays and Strings:\n",
    "1. Write a Python function to reverse an array."
   ]
  },
  {
   "cell_type": "code",
   "execution_count": 17,
   "metadata": {
    "vscode": {
     "languageId": "plaintext"
    }
   },
   "outputs": [
    {
     "name": "stdout",
     "output_type": "stream",
     "text": [
      "Original Array: [1, 2, 3, 4, 5]\n",
      "Reversed Array: [5, 4, 3, 2, 1]\n"
     ]
    }
   ],
   "source": [
    "# Reverse the array with list of intergers \n",
    "int_arr = [1, 2, 3, 4, 5]\n",
    "\n",
    "# define a function\n",
    "def reverse_array(int_arr):\n",
    "    # Initialize two pointers, one at the beginning and one at the end of the array\n",
    "    left = 0\n",
    "    right = len(int_arr) - 1\n",
    "\n",
    "    # Swap elements symmetrically around the center of the array\n",
    "    while left < right:\n",
    "        int_arr[left], int_arr[right] = int_arr[right], int_arr[left]\n",
    "        left += 1\n",
    "        right -= 1\n",
    "\n",
    "    return int_arr\n",
    "\n",
    "print(\"Original Array:\", int_arr)\n",
    "reversed_arr = reverse_array(int_arr)\n",
    "print(\"Reversed Array:\", reversed_arr)"
   ]
  },
  {
   "cell_type": "code",
   "execution_count": 18,
   "metadata": {},
   "outputs": [
    {
     "name": "stdout",
     "output_type": "stream",
     "text": [
      "Original String Array: ['apple', 'banana', 'cherry', 'orange', 'grape']\n",
      "Reverse String Array: ['grape', 'orange', 'cherry', 'banana', 'apple']\n"
     ]
    }
   ],
   "source": [
    "# Reverse the array with list of string\n",
    "str_arr = [\"apple\", \"banana\", \"cherry\", \"orange\", \"grape\"]\n",
    "\n",
    "# define a function to reverse the array\n",
    "def reverse_str_arr(str_arr):\n",
    "    # Initialize two pointers, one at the beginning and one at the end of the array\n",
    "    left = 0\n",
    "    right = len(str_arr) - 1\n",
    "\n",
    "    while left < right:\n",
    "        str_arr[left], str_arr[right] = str_arr[right], str_arr[left]\n",
    "        left += 1\n",
    "        right -= 1\n",
    "\n",
    "    return str_arr\n",
    "\n",
    "print(\"Original String Array:\", str_arr)\n",
    "reversed_str_arr = reverse_str_arr(str_arr) \n",
    "print(\"Reverse String Array:\", reversed_str_arr)"
   ]
  },
  {
   "cell_type": "markdown",
   "metadata": {},
   "source": [
    "2. Implement a function to find the maximum element in an array."
   ]
  },
  {
   "cell_type": "code",
   "execution_count": 23,
   "metadata": {},
   "outputs": [
    {
     "name": "stdout",
     "output_type": "stream",
     "text": [
      "Array: [5, 10, 13, 15, 100, 24, 101, 65]\n",
      "Maximum Element: 101\n"
     ]
    }
   ],
   "source": [
    "# define an array with list of integers\n",
    "arr = [5, 10, 13, 15, 100, 24, 101, 65]\n",
    "\n",
    "# define a function to check the max element in an array\n",
    "def find_max_element(arr):\n",
    "    if not arr:\n",
    "        raise ValueError(\"Array is empty\")\n",
    "\n",
    "    max_element = arr[0] # Initialize max_element with the first element of the array\n",
    "\n",
    "    for num in arr:\n",
    "        if num > max_element:\n",
    "            max_element = num # Update max_element if a larger element is found\n",
    "\n",
    "    return max_element\n",
    "\n",
    "print(\"Array:\", arr)\n",
    "max_element = find_max_element(arr)\n",
    "print(\"Maximum Element:\", max_element)"
   ]
  },
  {
   "cell_type": "markdown",
   "metadata": {},
   "source": [
    "3. Write a Python program to rotate an array to the left by n positions."
   ]
  },
  {
   "cell_type": "code",
   "execution_count": 27,
   "metadata": {},
   "outputs": [
    {
     "name": "stdout",
     "output_type": "stream",
     "text": [
      "Original Array: ['apple', 'banana', 'cherry', 'orange', 'grape']\n",
      "Array rotated left by 2 positions: ['cherry', 'orange', 'grape', 'apple', 'banana']\n"
     ]
    }
   ],
   "source": [
    "# define a function \n",
    "def rotate_arr_left(arr, n):\n",
    "    if not arr:\n",
    "        raise ValueError(\"Array is empty\")\n",
    "\n",
    "    # Calculate the effective number of rotation\n",
    "    rotations = n % len(arr)\n",
    "\n",
    "    # Rotate the array to the left \n",
    "    rotated_arr = arr[rotations:] + arr[:rotations]\n",
    "\n",
    "    return rotated_arr\n",
    "\n",
    "# Example Usage:\n",
    "arr = [5, 10, 15, 20, 25]\n",
    "n = 2\n",
    "rotated_arr = rotate_arr_left(arr, n)\n",
    "print(\"Original Array:\", arr)\n",
    "print(f\"Array rotated left by {n} positions: {rotated_arr}\")"
   ]
  },
  {
   "cell_type": "code",
   "execution_count": 33,
   "metadata": {},
   "outputs": [
    {
     "name": "stdout",
     "output_type": "stream",
     "text": [
      "Original Array ['apple', 'banana', 'cherry', 'orange', 'grape']\n",
      "Array rotated left by 2 positions:['cherry', 'orange', 'grape', 'apple', 'banana']\n"
     ]
    }
   ],
   "source": [
    "# lets do the same for string \n",
    "# define a function\n",
    "def rotate_string_left(str_arr, n):\n",
    "    if not str_arr:\n",
    "        raise ValueError(\"Array is empty\")\n",
    "\n",
    "    rotations = n % len(str_arr)\n",
    "\n",
    "    rotated_str_arr = str_arr[rotations:] + str_arr[:rotations]\n",
    "\n",
    "    return rotated_str_arr\n",
    "\n",
    "# Example Usage:\n",
    "str_arr = [\"apple\", \"banana\", \"cherry\", \"orange\", \"grape\"]\n",
    "n = 2\n",
    "rotated_str_arr = rotate_string_left(str_arr, n)\n",
    "print(\"Original Array\", str_arr)\n",
    "print(f\"Array rotated left by {n} positions:{rotated_str_arr}\")"
   ]
  },
  {
   "cell_type": "markdown",
   "metadata": {},
   "source": [
    "4. Implement a function to check if two strings are anagrams."
   ]
  },
  {
   "cell_type": "code",
   "execution_count": 3,
   "metadata": {},
   "outputs": [
    {
     "name": "stdout",
     "output_type": "stream",
     "text": [
      "Are listen and silent anagrams? True\n"
     ]
    }
   ],
   "source": [
    "# Check if two strings are anagrams of each other\n",
    "def are_anagrams(str1, str2):\n",
    "    # Convert strings to lowercase and remove whitespace\n",
    "    str1 = str1.lower().replace(\" \", \"\")\n",
    "    str2 = str2.lower().replace(\" \", \"\")\n",
    "\n",
    "    # If lengths are different, they can't be anagrams\n",
    "    if len(str1) != len(str2):\n",
    "        return False\n",
    "\n",
    "    # Count the frequency of characters in both strings\n",
    "    char_count = {}\n",
    "    for char in str1:\n",
    "        char_count[char] = char_count.get(char, 0) + 1\n",
    "    for char in str2:\n",
    "        char_count[char] = char_count.get(char, 0) - 1\n",
    "\n",
    "\n",
    "    # Check if all character counts are zero\n",
    "    for count in char_count.values():\n",
    "        if count != 0:\n",
    "            return False\n",
    "\n",
    "    return True\n",
    "\n",
    "\n",
    "# Example usage:\n",
    "str1 = \"listen\"\n",
    "str2 = \"silent\"\n",
    "print(f\"Are {str1} and {str2} anagrams?\", are_anagrams(str1, str2))\n",
    "    "
   ]
  },
  {
   "cell_type": "markdown",
   "metadata": {},
   "source": [
    "This function takes two strings str1 and str2 as input and checks if they are anagrams of each other. It first converts the strings to lowercase and removes whitespace to handle case and whitespace differences. Then, it compares the lengths of the strings, as anagrams must have the same length. Next, it counts the frequency of characters in both strings using a dictionary. Finally, it checks if the character counts in both strings match, indicating that they are anagrams.\n",
    "\n",
    "This implementation has a time complexity of O(n), where n is the length of the longer string, as it involves iterating through both strings once to count the character frequencies and then comparing the character counts."
   ]
  },
  {
   "cell_type": "markdown",
   "metadata": {},
   "source": [
    "5. Write a Python function to check if a string is a palindrome."
   ]
  },
  {
   "cell_type": "code",
   "execution_count": 10,
   "metadata": {},
   "outputs": [
    {
     "name": "stdout",
     "output_type": "stream",
     "text": [
      "Is the string \"A man a plan a canal Panama\" a palindrome? True\n"
     ]
    }
   ],
   "source": [
    "def is_palindrome(s):\n",
    "    \n",
    "    # Convert the string to lowercase and remoe whitespace\n",
    "    s = s.lower().replace(\" \", \"\")\n",
    "\n",
    "    # Check if the string is equla to its reverse\n",
    "    return s == s[::-1]\n",
    "\n",
    "# Exampel usage:\n",
    "string = \"A man a plan a canal Panama\"\n",
    "print(f\"Is the string \\\"{string}\\\" a palindrome?\", is_palindrome(string))"
   ]
  },
  {
   "cell_type": "markdown",
   "metadata": {},
   "source": [
    "This function takes a string s as input and checks if it is a palindrome. It first converts the string to lowercase and removes whitespace using the lower() and replace() methods. Then, it checks if the string is equal to its reverse using slicing with a step of -1 (s[::-1])."
   ]
  },
  {
   "cell_type": "markdown",
   "metadata": {},
   "source": [
    "6. Implement a function to count the occurrences of each character in a string."
   ]
  },
  {
   "cell_type": "code",
   "execution_count": 11,
   "metadata": {},
   "outputs": [
    {
     "name": "stdout",
     "output_type": "stream",
     "text": [
      "Occurences of each character in string: {'P': 1, 'y': 1, 't': 1, 'h': 1, 'o': 2, 'n': 1, ' ': 2, 'i': 1, 's': 2, 'A': 1, 'w': 1, 'e': 2, 'm': 1}\n"
     ]
    }
   ],
   "source": [
    "def count_char_occu(s):\n",
    "\n",
    "    # Initialize an empty disctionary to store character counts\n",
    "    char_count = {}\n",
    "\n",
    "    # Iterate through the characters in string \n",
    "    for char in s:\n",
    "        # Increment the cunt of the character in the disctionary \n",
    "        char_count[char] = char_count.get(char, 0) + 1\n",
    "\n",
    "    return char_count\n",
    "\n",
    "# Example usage:\n",
    "string = \"Python is Awesome\"\n",
    "occurrences = count_char_occu(string)\n",
    "print(\"Occurences of each character in string:\", occurrences)"
   ]
  },
  {
   "cell_type": "raw",
   "metadata": {},
   "source": [
    "This function takes a string s as input and returns a dictionary where each key-value pair represents a character and its count in the string. It iterates through each character in the string and updates its count in the dictionary using the get() method."
   ]
  },
  {
   "cell_type": "markdown",
   "metadata": {},
   "source": [
    "7. Write a Python program to remove duplicates from a sorted array."
   ]
  },
  {
   "cell_type": "code",
   "execution_count": 15,
   "metadata": {},
   "outputs": [
    {
     "name": "stdout",
     "output_type": "stream",
     "text": [
      "Original Sorted Array: [1, 1, 2, 2, 3, 3, 3, 4, 4, 4, 4, 5, 5, 6, 7]\n",
      "Array without Duplicates: [1, 2, 3, 4, 5, 6, 7]\n"
     ]
    }
   ],
   "source": [
    "def remove_duplicates(arr):\n",
    "\n",
    "    if not arr:\n",
    "        return arr # Return empty array if input array is empty\n",
    "\n",
    "    # Initialize a pointer to track the current position to insert non-duplicate elements\n",
    "    insert_pos = 1\n",
    "\n",
    "    # Iterate through the array starting from the second element\n",
    "    for i in range(1, len(arr)):\n",
    "        # If current element is different from previous element, insert it at the insert position\n",
    "        if arr[i] != arr[i - 1]:\n",
    "            arr[insert_pos] = arr[i]\n",
    "            insert_pos += 1\n",
    "\n",
    "    # Remove the extra elements from the end of the array\n",
    "    del arr[insert_pos:]\n",
    "\n",
    "    return arr\n",
    "\n",
    "# Example usage:\n",
    "arr = [1, 1, 2, 2, 3, 3, 3, 4, 4, 4, 4, 5, 5, 6, 7]\n",
    "print(\"Original Sorted Array:\", arr)\n",
    "arr_without_duplicates = remove_duplicates(arr)\n",
    "print(\"Array without Duplicates:\", arr_without_duplicates)\n",
    "        "
   ]
  },
  {
   "cell_type": "markdown",
   "metadata": {},
   "source": [
    "This program takes a sorted array arr as input and removes duplicates from it. It iterates through the array, comparing each element with the previous one. If the current element is different from the previous one, it inserts it at the appropriate position in the array. Finally, it removes the extra elements from the end of the array."
   ]
  },
  {
   "cell_type": "markdown",
   "metadata": {},
   "source": [
    "8. Implement a function to find the intersection of two arrays."
   ]
  },
  {
   "cell_type": "code",
   "execution_count": 5,
   "metadata": {},
   "outputs": [
    {
     "name": "stdout",
     "output_type": "stream",
     "text": [
      "Intersection of the arrays: [3, 4, 5]\n"
     ]
    }
   ],
   "source": [
    "def find_intersection(arr1, arr2):\n",
    "\n",
    "    # Sort the array to make the intersection of two arrays.\n",
    "    arr1.sort()\n",
    "    arr2.sort()\n",
    "\n",
    "    # Initialize pointers for both arrays\n",
    "    pointer1 = pointer2 = 0\n",
    "    intersection = []\n",
    "\n",
    "    # Iterate through both arrays simultaneously\n",
    "    while pointer1 < len(arr1) and pointer2 < len(arr2):\n",
    "        # If elements are equal, add to the intersection list and move both pointers\n",
    "        if arr1[pointer1] == arr2[pointer2]:\n",
    "            intersection.append(arr1[pointer1])\n",
    "            pointer1 += 1\n",
    "            pointer2 += 1\n",
    "\n",
    "        # If element in arr1 is smaller, move pointer1       \n",
    "        elif arr1[pointer1] < arr2[pointer2]:\n",
    "            pointer1 += 1\n",
    "\n",
    "        # If element in arr2 is smaller, move pointer2\n",
    "        else:\n",
    "            pointer2 += 1\n",
    "\n",
    "    return intersection\n",
    "\n",
    "\n",
    "# Example usage:\n",
    "arr1 = [1, 2, 3, 4, 5]\n",
    "arr2 = [3, 4, 5, 6, 7]\n",
    "intersection = find_intersection(arr1, arr2)\n",
    "print(\"Intersection of the arrays:\", intersection) "
   ]
  },
  {
   "cell_type": "markdown",
   "metadata": {},
   "source": [
    "This function takes two arrays arr1 and arr2 as input and returns a list containing their intersection. It first sorts both arrays to simplify the intersection process. Then, it iterates through both arrays simultaneously using two pointers. If the elements at the current positions are equal, it adds the element to the intersection list and moves both pointers forward. If one element is smaller than the other, it moves the corresponding pointer forward.\n",
    "\n",
    "This implementation has a time complexity of O(n log n), where n is the maximum of the lengths of the two arrays, due to the sorting step, and a space complexity of O(1) for the intersection list."
   ]
  },
  {
   "cell_type": "markdown",
   "metadata": {},
   "source": [
    "9. Write a Python program to find the first non-repeating character in a string."
   ]
  },
  {
   "cell_type": "code",
   "execution_count": 8,
   "metadata": {},
   "outputs": [
    {
     "name": "stdout",
     "output_type": "stream",
     "text": [
      "First non-repeating character in the string: h\n"
     ]
    }
   ],
   "source": [
    "def first_non_repeating_char(s):\n",
    "\n",
    "    # Initialize a disctionary to store character counts\n",
    "    char_count = {}\n",
    "\n",
    "    # Iterate through the string to count the occurences of each character\n",
    "    for char in s:\n",
    "        char_count[char] = char_count.get(char, 0) + 1\n",
    "\n",
    "    # Iterate through the string again to find the first non-repeating character from given string\n",
    "    for char in s:\n",
    "        if char_count[char] == 1:\n",
    "            return char\n",
    "\n",
    "    # If no non-repeating character is found, return none\n",
    "    return none\n",
    "\n",
    "# Example usage:\n",
    "string = \"hello world\"\n",
    "non_repeating_char = first_non_repeating_char(string)\n",
    "print(\"First non-repeating character in the string:\", non_repeating_char)"
   ]
  },
  {
   "cell_type": "markdown",
   "metadata": {},
   "source": [
    "This program takes a string s as input and returns the first non-repeating character in the string. It first counts the occurrences of each character in the string using a dictionary. Then, it iterates through the string again to find the first character with a count of 1, indicating that it is non-repeating.\n",
    "\n",
    "This implementation has a time complexity of O(n), where n is the length of the string, as it iterates through the string twice, once to count the occurrences of each character and once to find the first non-repeating character."
   ]
  },
  {
   "cell_type": "markdown",
   "metadata": {},
   "source": [
    "10. Implement a function to check if a string is a rotation of another string."
   ]
  },
  {
   "cell_type": "code",
   "execution_count": 9,
   "metadata": {},
   "outputs": [
    {
     "name": "stdout",
     "output_type": "stream",
     "text": [
      "Is \"waterbottle\" a rotation of \"erbottlewat\"? True\n"
     ]
    }
   ],
   "source": [
    "def is_rotation(s1, s2):\n",
    "\n",
    "    # Check if the length of the strings are equal\n",
    "    if len(s1) != len(s2):\n",
    "        return False\n",
    "\n",
    "    # Concatenate s1 with itself to create a larger string\n",
    "    s1_double = s1 + s1\n",
    "\n",
    "    # Check if s2 is a substring of s1 concatenated with itself\n",
    "    if s2 in s1_double:\n",
    "        return True\n",
    "\n",
    "    else:\n",
    "        return False\n",
    "\n",
    "# Example usage:\n",
    "string1 = \"waterbottle\"\n",
    "string2 = \"erbottlewat\"\n",
    "print(f\"Is \\\"{string1}\\\" a rotation of \\\"{string2}\\\"?\", is_rotation(string1, string2))"
   ]
  },
  {
   "cell_type": "markdown",
   "metadata": {},
   "source": [
    "This function takes two strings s1 and s2 as input and checks if s2 is a rotation of s1. It first checks if the lengths of the strings are equal, as two strings of unequal length cannot be rotations of each other. Then, it concatenates s1 with itself to create a larger string. Finally, it checks if s2 is a substring of the concatenated string, indicating that s2 is a rotation of s1.\n",
    "\n",
    "This implementation has a time complexity of O(n), where n is the length of the strings, as it involves concatenating the strings and checking if one string is a substring of the other."
   ]
  }
 ],
 "metadata": {
  "kernelspec": {
   "display_name": "Python 3 (ipykernel)",
   "language": "python",
   "name": "python3"
  },
  "language_info": {
   "codemirror_mode": {
    "name": "ipython",
    "version": 3
   },
   "file_extension": ".py",
   "mimetype": "text/x-python",
   "name": "python",
   "nbconvert_exporter": "python",
   "pygments_lexer": "ipython3",
   "version": "3.11.5"
  }
 },
 "nbformat": 4,
 "nbformat_minor": 4
}
